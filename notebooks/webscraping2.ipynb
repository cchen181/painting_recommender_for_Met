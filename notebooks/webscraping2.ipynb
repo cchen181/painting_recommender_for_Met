{
 "cells": [
  {
   "cell_type": "code",
   "execution_count": null,
   "metadata": {
    "ExecuteTime": {
     "end_time": "2018-06-04T19:07:29.474544Z",
     "start_time": "2018-06-04T19:07:29.215198Z"
    },
    "collapsed": true
   },
   "outputs": [],
   "source": [
    "import pickle\n",
    "from bs4 import BeautifulSoup\n",
    "import requests\n",
    "import re\n",
    "from collections import defaultdict\n"
   ]
  },
  {
   "cell_type": "markdown",
   "metadata": {},
   "source": [
    "# create dictionary of accession #: blurb for each painting"
   ]
  },
  {
   "cell_type": "code",
   "execution_count": null,
   "metadata": {
    "ExecuteTime": {
     "end_time": "2018-06-04T19:07:38.000738Z",
     "start_time": "2018-06-04T19:07:37.991466Z"
    }
   },
   "outputs": [],
   "source": [
    "with open(\"../data/siteURL.pkl\", 'rb') as picklefile: \n",
    "    urlList = pickle.load(picklefile)\n",
    "print(len(urlList))       \n",
    "print(urlList[:5])\n",
    "\n",
    "del urlList[2665]"
   ]
  },
  {
   "cell_type": "code",
   "execution_count": null,
   "metadata": {
    "ExecuteTime": {
     "end_time": "2018-06-04T19:07:53.713971Z",
     "start_time": "2018-06-04T19:07:53.705601Z"
    }
   },
   "outputs": [],
   "source": [
    "with open(\"../data/siteURL.pkl\", 'rb') as picklefile: \n",
    "    urlList = pickle.load(picklefile)\n",
    "print(len(urlList))       \n",
    "print(urlList[0])"
   ]
  },
  {
   "cell_type": "code",
   "execution_count": null,
   "metadata": {
    "ExecuteTime": {
     "end_time": "2018-06-04T19:07:56.623431Z",
     "start_time": "2018-06-04T19:07:56.609925Z"
    }
   },
   "outputs": [],
   "source": [
    "urlList[2665] #--> link broken!!!"
   ]
  },
  {
   "cell_type": "markdown",
   "metadata": {},
   "source": [
    "# grab URL list and create results"
   ]
  },
  {
   "cell_type": "code",
   "execution_count": null,
   "metadata": {
    "ExecuteTime": {
     "end_time": "2018-03-13T22:22:42.689121Z",
     "start_time": "2018-03-13T22:22:42.649006Z"
    },
    "collapsed": true
   },
   "outputs": [],
   "source": [
    "def artist(url, tag): \n",
    "    response = requests.get(url)\n",
    "    page=response.text\n",
    "    soup = BeautifulSoup(page,'html5lib')\n",
    "    for index, link in enumerate(soup.find_all(tag)):\n",
    "        if link.text=='Artist:':\n",
    "            return soup.find_all('dd')[index].text\n",
    "def date(url, tag): \n",
    "    response = requests.get(url)\n",
    "    page=response.text\n",
    "    soup = BeautifulSoup(page,'html5lib')\n",
    "    for index, link in enumerate(soup.find_all(tag)):\n",
    "        if link.text=='Date:':\n",
    "            return soup.find_all('dd')[index].text\n",
    "def medium(url, tag): \n",
    "    response = requests.get(url)\n",
    "    page=response.text\n",
    "    soup = BeautifulSoup(page,'html5lib')\n",
    "    for index, link in enumerate(soup.find_all(tag)):\n",
    "        if link.text=='Medium:':\n",
    "            return soup.find_all('dd')[index].text\n",
    "def accession(url, tag): \n",
    "    response = requests.get(url)\n",
    "    page=response.text\n",
    "    soup = BeautifulSoup(page,'html5lib')\n",
    "    for index, link in enumerate(soup.find_all(tag)):\n",
    "        if link.text=='Accession Number:':\n",
    "            return soup.find_all('dd')[index].text\n"
   ]
  },
  {
   "cell_type": "code",
   "execution_count": null,
   "metadata": {
    "ExecuteTime": {
     "end_time": "2018-03-14T02:28:56.155779Z",
     "start_time": "2018-03-13T22:22:43.568592Z"
    }
   },
   "outputs": [],
   "source": [
    "blurbsComplete=[]\n",
    "idx=0\n",
    "\n",
    "for url in urlList:\n",
    "    response = requests.get(url)\n",
    "    \n",
    "    page = response.text\n",
    "    soup = BeautifulSoup(page, \"lxml\")\n",
    "\n",
    "    #blurb\n",
    "    for row in soup.find_all('div',attrs={\"class\":\"collection-details__label right-to-left\"}):\n",
    "        blurb=row.text.strip()\n",
    "        #print(blurb)\n",
    "    \n",
    "    #artist, date, medium, accession number\n",
    "    print(idx)    \n",
    "    artistValue=artist(url,'dt')\n",
    "    print(artistValue)\n",
    "    dateValue=date(url,'dt')\n",
    "    print(dateValue)\n",
    "    mediumValue=medium(url,'dt')\n",
    "    print(mediumValue)\n",
    "    accessionValue=grabnumber(url,'dt')\n",
    "    print(accessionValue)\n",
    "    idx+=1\n",
    "    \n",
    "    #input entry into dictionary\n",
    "    blurbs = defaultdict(dict)    \n",
    "    blurbs['Artist'] = artistValue\n",
    "    blurbs['Date'] = dateValue\n",
    "    blurbs['Medium'] = mediumValue\n",
    "    blurbs['AccessionNumber'] = accessionValue\n",
    "    blurbs['Blurb'] = blurb\n",
    "    blurbsComplete.append(blurbs)\n",
    "    \n",
    "#print(blurbs)"
   ]
  },
  {
   "cell_type": "code",
   "execution_count": null,
   "metadata": {
    "ExecuteTime": {
     "end_time": "2018-06-04T19:08:41.116033Z",
     "start_time": "2018-06-04T19:08:40.972682Z"
    }
   },
   "outputs": [],
   "source": [
    "print(len(blurbsComplete))\n",
    "print(blurbsComplete[:5])"
   ]
  },
  {
   "cell_type": "code",
   "execution_count": null,
   "metadata": {
    "ExecuteTime": {
     "end_time": "2018-03-14T02:33:12.888737Z",
     "start_time": "2018-03-14T02:33:12.509906Z"
    }
   },
   "outputs": [],
   "source": [
    "count=0\n",
    "for i in range(len(blurbsComplete)):\n",
    "    if len(blurbsComplete[i]['Blurb'])>0:\n",
    "        count+=1\n",
    "        print(blurbsComplete[i]['Blurb'])\n",
    "print(count)        "
   ]
  },
  {
   "cell_type": "code",
   "execution_count": null,
   "metadata": {
    "ExecuteTime": {
     "end_time": "2018-03-12T15:43:19.735651Z",
     "start_time": "2018-03-12T15:43:19.637024Z"
    }
   },
   "outputs": [],
   "source": [
    "count=0\n",
    "for entry in list(blurbs.values()):\n",
    "    if len(entry)>0:\n",
    "        count+=1\n",
    "        print(entry)\n",
    "print(count)        "
   ]
  },
  {
   "cell_type": "code",
   "execution_count": null,
   "metadata": {
    "ExecuteTime": {
     "end_time": "2018-03-14T02:34:51.414494Z",
     "start_time": "2018-03-14T02:34:51.383860Z"
    },
    "collapsed": true
   },
   "outputs": [],
   "source": [
    "#pickle blurbsComplete\n",
    "with open('../data/desc.pkl','wb') as picklefile:\n",
    "    pickle.dump(blurbsComplete,picklefile)"
   ]
  },
  {
   "cell_type": "code",
   "execution_count": null,
   "metadata": {
    "ExecuteTime": {
     "end_time": "2018-06-04T19:09:44.733735Z",
     "start_time": "2018-06-04T19:09:44.716475Z"
    }
   },
   "outputs": [],
   "source": [
    "#pickle blurbsComplete\n",
    "with open('../data/desc.pkl','rb') as picklefile:\n",
    "    blurbsComplete2=pickle.load(picklefile)\n",
    "print(len(blurbsComplete2))\n",
    "#print(blurbsComplete2)"
   ]
  },
  {
   "cell_type": "code",
   "execution_count": null,
   "metadata": {
    "ExecuteTime": {
     "end_time": "2018-06-04T19:09:58.036516Z",
     "start_time": "2018-06-04T19:09:58.021942Z"
    }
   },
   "outputs": [],
   "source": [
    "blurbswDescriptionsOnly = {key: value for key, value in blurbs.items() if value !=''}\n",
    "print(len(blurbswDescriptionsOnly))\n",
    "print(blurbswDescriptionsOnly)"
   ]
  },
  {
   "cell_type": "code",
   "execution_count": null,
   "metadata": {
    "ExecuteTime": {
     "end_time": "2018-03-12T16:07:19.655248Z",
     "start_time": "2018-03-12T16:07:19.644590Z"
    },
    "collapsed": true
   },
   "outputs": [],
   "source": [
    "#pickle blurbswDescriptionsOnly\n",
    "with open('../data/blurbswDescriptionsOnly.pkl','wb') as picklefile:\n",
    "    pickle.dump(blurbswDescriptionsOnly,picklefile)"
   ]
  },
  {
   "cell_type": "code",
   "execution_count": null,
   "metadata": {
    "ExecuteTime": {
     "end_time": "2018-03-12T16:08:11.083365Z",
     "start_time": "2018-03-12T16:08:11.066450Z"
    }
   },
   "outputs": [],
   "source": [
    "blurbswDescriptionsOnly"
   ]
  },
  {
   "cell_type": "code",
   "execution_count": null,
   "metadata": {
    "collapsed": true
   },
   "outputs": [],
   "source": [
    "len(bl)"
   ]
  },
  {
   "cell_type": "markdown",
   "metadata": {
    "ExecuteTime": {
     "end_time": "2018-03-12T00:45:44.113669Z",
     "start_time": "2018-03-12T00:45:44.109986Z"
    }
   },
   "source": [
    "# grab URL"
   ]
  },
  {
   "cell_type": "code",
   "execution_count": null,
   "metadata": {
    "ExecuteTime": {
     "end_time": "2018-05-24T20:17:09.967726Z",
     "start_time": "2018-05-24T20:17:09.883818Z"
    },
    "collapsed": true
   },
   "outputs": [],
   "source": [
    "\n",
    "\n",
    "#urlList = ['https://www.metmuseum.org/art/collection/search/495297', /\n",
    "#          'https://www.metmuseum.org/art/collection/search/488139', /\n",
    "#          'https://www.metmuseum.org/art/collection/search/36236']\n",
    "\n",
    "#url = 'https://www.metmuseum.org/art/collection/search/495297' #G Bellows, 1 para blurb\n",
    "url='https://www.metmuseum.org/art/collection/search/435845'\n",
    "\n",
    "response = requests.get(url)"
   ]
  },
  {
   "cell_type": "code",
   "execution_count": null,
   "metadata": {
    "ExecuteTime": {
     "end_time": "2018-05-24T20:17:10.628328Z",
     "start_time": "2018-05-24T20:17:10.621959Z"
    }
   },
   "outputs": [],
   "source": [
    "response.status_code"
   ]
  },
  {
   "cell_type": "code",
   "execution_count": null,
   "metadata": {
    "ExecuteTime": {
     "end_time": "2018-05-24T20:17:11.108828Z",
     "start_time": "2018-05-24T20:17:11.101298Z"
    }
   },
   "outputs": [],
   "source": [
    "print(response.text)"
   ]
  },
  {
   "cell_type": "code",
   "execution_count": null,
   "metadata": {
    "ExecuteTime": {
     "end_time": "2018-05-24T20:07:27.078592Z",
     "start_time": "2018-05-24T20:07:27.074034Z"
    },
    "collapsed": true
   },
   "outputs": [],
   "source": [
    "page = response.text"
   ]
  },
  {
   "cell_type": "code",
   "execution_count": null,
   "metadata": {
    "ExecuteTime": {
     "end_time": "2018-05-24T20:07:27.885570Z",
     "start_time": "2018-05-24T20:07:27.880009Z"
    },
    "collapsed": true
   },
   "outputs": [],
   "source": [
    "soup = BeautifulSoup(page, \"lxml\")"
   ]
  },
  {
   "cell_type": "markdown",
   "metadata": {},
   "source": [
    "# blurb"
   ]
  },
  {
   "cell_type": "code",
   "execution_count": null,
   "metadata": {
    "ExecuteTime": {
     "end_time": "2018-03-13T21:03:19.488742Z",
     "start_time": "2018-03-13T21:03:19.469445Z"
    }
   },
   "outputs": [],
   "source": [
    "for row in soup.find_all('div',attrs={\"class\":\"collection-details__label right-to-left\"}):\n",
    "    blurb=row.text.strip()\n",
    "    print(blurb)"
   ]
  },
  {
   "cell_type": "markdown",
   "metadata": {
    "ExecuteTime": {
     "end_time": "2018-03-11T21:41:14.820056Z",
     "start_time": "2018-03-11T21:41:14.814368Z"
    }
   },
   "source": [
    "# accession number"
   ]
  },
  {
   "cell_type": "code",
   "execution_count": null,
   "metadata": {
    "ExecuteTime": {
     "end_time": "2018-03-13T21:03:21.083737Z",
     "start_time": "2018-03-13T21:03:21.075998Z"
    },
    "collapsed": true
   },
   "outputs": [],
   "source": [
    "def artist(url, tag): \n",
    "    response = requests.get(url)\n",
    "    page=response.text\n",
    "    soup = BeautifulSoup(page,'html5lib')\n",
    "    for index, link in enumerate(soup.find_all(tag)):\n",
    "        if link.text=='Artist:':\n",
    "            return soup.find_all('dd')[index].text"
   ]
  },
  {
   "cell_type": "code",
   "execution_count": null,
   "metadata": {
    "ExecuteTime": {
     "end_time": "2018-03-13T21:03:21.809289Z",
     "start_time": "2018-03-13T21:03:21.801821Z"
    },
    "collapsed": true
   },
   "outputs": [],
   "source": [
    "def date(url, tag): \n",
    "    response = requests.get(url)\n",
    "    page=response.text\n",
    "    soup = BeautifulSoup(page,'html5lib')\n",
    "    for index, link in enumerate(soup.find_all(tag)):\n",
    "        if link.text=='Date:':\n",
    "            return soup.find_all('dd')[index].text"
   ]
  },
  {
   "cell_type": "code",
   "execution_count": null,
   "metadata": {
    "ExecuteTime": {
     "end_time": "2018-03-13T21:03:22.360075Z",
     "start_time": "2018-03-13T21:03:22.353002Z"
    },
    "collapsed": true
   },
   "outputs": [],
   "source": [
    "def medium(url, tag): \n",
    "    response = requests.get(url)\n",
    "    page=response.text\n",
    "    soup = BeautifulSoup(page,'html5lib')\n",
    "    for index, link in enumerate(soup.find_all(tag)):\n",
    "        if link.text=='Medium:':\n",
    "            return soup.find_all('dd')[index].text"
   ]
  },
  {
   "cell_type": "code",
   "execution_count": null,
   "metadata": {
    "ExecuteTime": {
     "end_time": "2018-03-13T21:03:23.034359Z",
     "start_time": "2018-03-13T21:03:23.025911Z"
    },
    "collapsed": true
   },
   "outputs": [],
   "source": [
    "def accession(url, tag): \n",
    "    response = requests.get(url)\n",
    "    page=response.text\n",
    "    soup = BeautifulSoup(page,'html5lib')\n",
    "    for index, link in enumerate(soup.find_all(tag)):\n",
    "        if link.text=='Accession Number:':\n",
    "            return soup.find_all('dd')[index].text"
   ]
  },
  {
   "cell_type": "code",
   "execution_count": null,
   "metadata": {
    "ExecuteTime": {
     "end_time": "2018-03-13T21:03:24.848885Z",
     "start_time": "2018-03-13T21:03:23.876595Z"
    }
   },
   "outputs": [],
   "source": [
    "artistValue=artist(url,'dt')\n",
    "print(artistValue)"
   ]
  },
  {
   "cell_type": "code",
   "execution_count": null,
   "metadata": {
    "ExecuteTime": {
     "end_time": "2018-03-13T21:03:26.751934Z",
     "start_time": "2018-03-13T21:03:25.712039Z"
    }
   },
   "outputs": [],
   "source": [
    "dateValue=date(url,'dt')\n",
    "print(dateValue)"
   ]
  },
  {
   "cell_type": "code",
   "execution_count": null,
   "metadata": {
    "ExecuteTime": {
     "end_time": "2018-03-13T21:03:28.445973Z",
     "start_time": "2018-03-13T21:03:27.341328Z"
    }
   },
   "outputs": [],
   "source": [
    "mediumValue=medium(url,'dt')\n",
    "print(mediumValue)"
   ]
  },
  {
   "cell_type": "code",
   "execution_count": null,
   "metadata": {
    "ExecuteTime": {
     "end_time": "2018-03-13T21:03:30.145106Z",
     "start_time": "2018-03-13T21:03:29.192764Z"
    }
   },
   "outputs": [],
   "source": [
    "accessionValue=grabnumber(url,'dt')\n",
    "print(accessionValue)"
   ]
  },
  {
   "cell_type": "markdown",
   "metadata": {},
   "source": [
    "# create dictionary"
   ]
  },
  {
   "cell_type": "code",
   "execution_count": null,
   "metadata": {
    "ExecuteTime": {
     "end_time": "2018-03-13T21:03:32.734938Z",
     "start_time": "2018-03-13T21:03:32.722972Z"
    }
   },
   "outputs": [],
   "source": [
    "from collections import defaultdict\n",
    "\n",
    "for url in urlList:\n",
    "    blurbs = defaultdict(dict)\n",
    "\n",
    "    blurbs['Artist'] = artistValue\n",
    "    blurbs['Date'] = dateValue\n",
    "    blurbs['Medium'] = mediumValue\n",
    "    blurbs['AccessionNumber'] = accessionValue\n",
    "    blurbs['Blurb'] = blurb\n",
    "\n",
    "print(blurbs)"
   ]
  }
 ],
 "metadata": {
  "kernelspec": {
   "display_name": "Python 3",
   "language": "python",
   "name": "python3"
  },
  "language_info": {
   "codemirror_mode": {
    "name": "ipython",
    "version": 3
   },
   "file_extension": ".py",
   "mimetype": "text/x-python",
   "name": "python",
   "nbconvert_exporter": "python",
   "pygments_lexer": "ipython3",
   "version": "3.6.2"
  },
  "toc": {
   "nav_menu": {},
   "number_sections": true,
   "sideBar": false,
   "skip_h1_title": false,
   "title_cell": "Table of Contents",
   "title_sidebar": "Contents",
   "toc_cell": false,
   "toc_position": {
    "height": "571px",
    "left": "26px",
    "top": "106px",
    "width": "288px"
   },
   "toc_section_display": true,
   "toc_window_display": false
  }
 },
 "nbformat": 4,
 "nbformat_minor": 2
}
