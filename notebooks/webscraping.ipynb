{
 "cells": [
  {
   "cell_type": "code",
   "execution_count": null,
   "metadata": {
    "collapsed": true
   },
   "outputs": [],
   "source": [
    "from selenium import webdriver\n",
    "from selenium.webdriver.common.keys import Keys\n",
    "import time\n",
    "from bs4 import BeautifulSoup\n",
    "from selenium.common.exceptions import NoSuchElementException\n",
    "from selenium.common.exceptions import TimeoutException\n",
    "from selenium.webdriver.support.ui import WebDriverWait \n",
    "from selenium.webdriver.common.by import By\n",
    "from selenium.webdriver.support import expected_conditions as EC \n",
    "import pickle\n",
    "import os"
   ]
  },
  {
   "cell_type": "code",
   "execution_count": null,
   "metadata": {
    "ExecuteTime": {
     "end_time": "2018-03-12T20:36:08.472448Z",
     "start_time": "2018-03-12T20:36:06.760510Z"
    },
    "collapsed": true
   },
   "outputs": [],
   "source": [
    "# mv chrome driver from Downloads to Applications \n",
    "chromedriver = \"/Applications/chromedriver\"\n",
    "os.environ[\"webdriver.chrome.driver\"] = chromedriver\n",
    "\n",
    "\n",
    "driver = webdriver.Chrome(chromedriver)"
   ]
  },
  {
   "cell_type": "code",
   "execution_count": null,
   "metadata": {
    "ExecuteTime": {
     "end_time": "2018-03-12T20:36:24.173338Z",
     "start_time": "2018-03-12T20:36:09.556278Z"
    },
    "collapsed": true
   },
   "outputs": [],
   "source": [
    "#met_url = \"https://www.metmuseum.org/art/collection/#!?material=Paintings&era=A.D.%201900-present&showOnly=withImage%7Copenaccess&offset=0&pageSize=0&sortBy=Relevance&sortOrder=asc&perPage=20\"\n",
    "\n",
    "met_url = \"https://www.metmuseum.org/art/collection#!?material=Paintings&era=A.D.%25201900-present&offset=0&pageSize=0&sortBy=Relevance&sortOrder=asc&perPage=100\"\n",
    "driver.get(met_url)"
   ]
  },
  {
   "cell_type": "code",
   "execution_count": null,
   "metadata": {
    "ExecuteTime": {
     "end_time": "2018-03-12T20:39:03.948399Z",
     "start_time": "2018-03-12T20:39:03.641002Z"
    },
    "collapsed": true
   },
   "outputs": [],
   "source": [
    "soup = BeautifulSoup(driver.page_source, 'html.parser')"
   ]
  },
  {
   "cell_type": "code",
   "execution_count": null,
   "metadata": {
    "ExecuteTime": {
     "end_time": "2018-03-11T02:27:30.524237Z",
     "start_time": "2018-03-11T02:27:18.802209Z"
    },
    "collapsed": true
   },
   "outputs": [],
   "source": [
    "wait = WebDriverWait(driver, 10)\n",
    "\n",
    "met_url = \"https://www.metmuseum.org/art/collection/#!?material=Paintings&era=A.D.%201900-present&showOnly=withImage%7Copenaccess&offset=0&pageSize=0&sortBy=Relevance&sortOrder=asc&perPage=20\"\n",
    "driver.get(met_url)\n",
    "#create lists\n",
    "jpgList=[]\n",
    "sitesList=[]\n",
    "\n",
    "while True: \n",
    "    soup = BeautifulSoup(driver.page_source, 'html.parser')\n",
    "    \n",
    "    #imgs\n",
    "    soup.findAll('img')\n",
    "    for link in soup.find_all('img'):\n",
    "        a=link.get('ng-src')\n",
    "        if isinstance(a, str) == True:\n",
    "            print(a)\n",
    "            jpgList.append(a)\n",
    "        \n",
    "    #sites        \n",
    "    main_url='https://www.metmuseum.org'\n",
    "    for link in soup.find_all('a',{\"class\": \"ng-binding\"}):\n",
    "        a=link.get('href')\n",
    "        b=a.split('?')[0]\n",
    "        if len(b)>0:\n",
    "            print(main_url+b)\n",
    "            sitesList.append(main_url+b)              \n",
    "        \n",
    "    # click next link\n",
    "    try:\n",
    "        element = wait.until(EC.element_to_be_clickable((By.CLASS_NAME, \"pagenav-numeric__button pagenav-numeric__next ng-click-active\")))\n",
    "        element.click()\n",
    "    except TimeoutException:\n",
    "        break"
   ]
  },
  {
   "cell_type": "code",
   "execution_count": null,
   "metadata": {
    "ExecuteTime": {
     "end_time": "2018-03-12T20:39:11.608947Z",
     "start_time": "2018-03-12T20:39:11.034640Z"
    }
   },
   "outputs": [],
   "source": [
    "soup"
   ]
  },
  {
   "cell_type": "code",
   "execution_count": null,
   "metadata": {
    "ExecuteTime": {
     "end_time": "2018-03-12T20:39:21.486505Z",
     "start_time": "2018-03-12T20:39:21.445839Z"
    }
   },
   "outputs": [],
   "source": [
    "soup.findAll('img')\n",
    "\n",
    "jpgList=[]\n",
    "for link in soup.find_all('img'):\n",
    "    a=link.get('ng-src')\n",
    "\n",
    "    if isinstance(a, str) == True:\n",
    "        print(a)\n",
    "        jpgList.append(a)        "
   ]
  },
  {
   "cell_type": "code",
   "execution_count": null,
   "metadata": {
    "ExecuteTime": {
     "end_time": "2018-03-12T20:39:41.757345Z",
     "start_time": "2018-03-12T20:39:41.685696Z"
    }
   },
   "outputs": [],
   "source": [
    "main_url='https://www.metmuseum.org'\n",
    "\n",
    "sitesList=[]\n",
    "for link in soup.find_all('a',{\"class\": \"ng-binding\"}):\n",
    "    a=link.get('href')\n",
    "    b=a.split('?')[0]\n",
    "    if len(b)>0:\n",
    "        print(main_url+b)\n",
    "        sitesList.append(main_url+b)      "
   ]
  },
  {
   "cell_type": "code",
   "execution_count": null,
   "metadata": {
    "ExecuteTime": {
     "end_time": "2018-03-11T01:23:35.266763Z",
     "start_time": "2018-03-11T01:23:35.245019Z"
    }
   },
   "outputs": [],
   "source": [
    "soup.find_all('button',{\"class\": \"pagenav-numeric__button pagenav-numeric__next\"})"
   ]
  },
  {
   "cell_type": "code",
   "execution_count": null,
   "metadata": {
    "ExecuteTime": {
     "end_time": "2018-03-12T20:40:02.417387Z",
     "start_time": "2018-03-12T20:40:02.407020Z"
    }
   },
   "outputs": [],
   "source": [
    "sitesList"
   ]
  },
  {
   "cell_type": "code",
   "execution_count": null,
   "metadata": {
    "ExecuteTime": {
     "end_time": "2018-03-12T20:40:40.674461Z",
     "start_time": "2018-03-12T20:40:40.664804Z"
    }
   },
   "outputs": [],
   "source": [
    "jpgList"
   ]
  },
  {
   "cell_type": "code",
   "execution_count": null,
   "metadata": {
    "ExecuteTime": {
     "end_time": "2018-03-12T20:41:02.616876Z",
     "start_time": "2018-03-12T20:41:02.611336Z"
    }
   },
   "outputs": [],
   "source": [
    "len(jpgList)"
   ]
  },
  {
   "cell_type": "code",
   "execution_count": null,
   "metadata": {
    "ExecuteTime": {
     "end_time": "2018-03-12T20:41:04.413270Z",
     "start_time": "2018-03-12T20:41:04.406976Z"
    }
   },
   "outputs": [],
   "source": [
    "len(sitesList)"
   ]
  },
  {
   "cell_type": "code",
   "execution_count": null,
   "metadata": {
    "collapsed": true
   },
   "outputs": [],
   "source": []
  },
  {
   "cell_type": "code",
   "execution_count": null,
   "metadata": {
    "ExecuteTime": {
     "end_time": "2018-03-12T22:56:31.677304Z",
     "start_time": "2018-03-12T22:56:31.609039Z"
    },
    "collapsed": true
   },
   "outputs": [],
   "source": [
    "soup = BeautifulSoup(driver.page_source, 'html.parser')"
   ]
  },
  {
   "cell_type": "code",
   "execution_count": null,
   "metadata": {
    "ExecuteTime": {
     "end_time": "2018-03-12T22:56:32.483541Z",
     "start_time": "2018-03-12T22:56:32.456216Z"
    }
   },
   "outputs": [],
   "source": [
    "    #imgs\n",
    "    soup.findAll('img')\n",
    "    for link in soup.find_all('img'):\n",
    "        a=link.get('ng-src')\n",
    "    if isinstance(a, str) == True:\n",
    "        print(a)\n",
    "        jpgList.append(a)\n",
    "        \n",
    "    #sites        \n",
    "    main_url='https://www.metmuseum.org'\n",
    "    for link in soup.find_all('a',{\"class\": \"ng-binding\"}):\n",
    "        a=link.get('href')\n",
    "        b=a.split('?')[0]\n",
    "        if len(b)>0:\n",
    "            print(main_url+b)\n",
    "            sitesList.append(main_url+b)              \n",
    "        "
   ]
  },
  {
   "cell_type": "code",
   "execution_count": null,
   "metadata": {
    "ExecuteTime": {
     "end_time": "2018-03-12T22:56:33.212164Z",
     "start_time": "2018-03-12T22:56:33.205282Z"
    }
   },
   "outputs": [],
   "source": [
    "len(sitesList)"
   ]
  },
  {
   "cell_type": "code",
   "execution_count": null,
   "metadata": {
    "ExecuteTime": {
     "end_time": "2018-03-12T22:56:33.928117Z",
     "start_time": "2018-03-12T22:56:33.917092Z"
    }
   },
   "outputs": [],
   "source": [
    "soup.findAll('img')\n",
    "\n",
    "for link in soup.find_all('img'):\n",
    "    a=link.get('ng-src')\n",
    "    #print(a)\n",
    "    #print(type(a))\n",
    "    if isinstance(a, str) == True:\n",
    "        print(a)\n",
    "        jpgList.append(a)"
   ]
  },
  {
   "cell_type": "code",
   "execution_count": null,
   "metadata": {
    "ExecuteTime": {
     "end_time": "2018-03-12T22:56:34.787460Z",
     "start_time": "2018-03-12T22:56:34.779891Z"
    }
   },
   "outputs": [],
   "source": [
    "len(jpgList)"
   ]
  },
  {
   "cell_type": "code",
   "execution_count": null,
   "metadata": {
    "collapsed": true
   },
   "outputs": [],
   "source": []
  },
  {
   "cell_type": "code",
   "execution_count": null,
   "metadata": {
    "ExecuteTime": {
     "end_time": "2018-03-12T22:57:28.651245Z",
     "start_time": "2018-03-12T22:57:28.634065Z"
    }
   },
   "outputs": [],
   "source": [
    "sitesList"
   ]
  },
  {
   "cell_type": "code",
   "execution_count": null,
   "metadata": {
    "ExecuteTime": {
     "end_time": "2018-03-12T22:57:38.100865Z",
     "start_time": "2018-03-12T22:57:38.085980Z"
    }
   },
   "outputs": [],
   "source": [
    "jpgList"
   ]
  },
  {
   "cell_type": "code",
   "execution_count": null,
   "metadata": {
    "ExecuteTime": {
     "end_time": "2018-03-12T23:01:43.671268Z",
     "start_time": "2018-03-12T23:01:43.664142Z"
    }
   },
   "outputs": [],
   "source": [
    "len(jpgList)"
   ]
  },
  {
   "cell_type": "code",
   "execution_count": null,
   "metadata": {
    "ExecuteTime": {
     "end_time": "2018-03-12T23:01:52.230485Z",
     "start_time": "2018-03-12T23:01:52.224217Z"
    }
   },
   "outputs": [],
   "source": [
    "len(sitesList)"
   ]
  },
  {
   "cell_type": "code",
   "execution_count": null,
   "metadata": {
    "collapsed": true
   },
   "outputs": [],
   "source": []
  },
  {
   "cell_type": "code",
   "execution_count": null,
   "metadata": {
    "ExecuteTime": {
     "end_time": "2018-03-12T23:02:05.696425Z",
     "start_time": "2018-03-12T23:02:05.683566Z"
    },
    "collapsed": true
   },
   "outputs": [],
   "source": [
    "with open('../data/jpgURL.pkl', 'wb') as picklefile:\n",
    "    pickle.dump(jpgList, picklefile)\n",
    "\n",
    "with open('../data/siteURL.pkl', 'wb') as picklefile1:\n",
    "    pickle.dump(sitesList, picklefile1)    "
   ]
  }
 ],
 "metadata": {
  "kernelspec": {
   "display_name": "Python 3",
   "language": "python",
   "name": "python3"
  },
  "language_info": {
   "codemirror_mode": {
    "name": "ipython",
    "version": 3
   },
   "file_extension": ".py",
   "mimetype": "text/x-python",
   "name": "python",
   "nbconvert_exporter": "python",
   "pygments_lexer": "ipython3",
   "version": "3.6.2"
  },
  "toc": {
   "nav_menu": {},
   "number_sections": true,
   "sideBar": true,
   "skip_h1_title": false,
   "title_cell": "Table of Contents",
   "title_sidebar": "Contents",
   "toc_cell": false,
   "toc_position": {
    "height": "calc(100% - 180px)",
    "left": "10px",
    "top": "150px",
    "width": "288px"
   },
   "toc_section_display": true,
   "toc_window_display": false
  }
 },
 "nbformat": 4,
 "nbformat_minor": 2
}
