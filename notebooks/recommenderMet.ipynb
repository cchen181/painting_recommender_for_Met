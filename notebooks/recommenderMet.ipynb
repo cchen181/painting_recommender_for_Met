{
 "cells": [
  {
   "cell_type": "code",
   "execution_count": 1,
   "metadata": {
    "ExecuteTime": {
     "end_time": "2018-06-04T18:48:29.898723Z",
     "start_time": "2018-06-04T18:48:27.946882Z"
    },
    "collapsed": true
   },
   "outputs": [],
   "source": [
    "import pickle\n",
    "import pandas as pd\n",
    "from nltk.tokenize import word_tokenize\n",
    "from sklearn.feature_extraction.text import TfidfVectorizer\n",
    "from sklearn.decomposition import NMF\n",
    "from nltk.stem import WordNetLemmatizer\n",
    "from nltk.tag import pos_tag\n",
    "from sklearn.feature_extraction import text\n",
    "from sklearn.metrics.pairwise import cosine_similarity\n",
    "from collections import defaultdict\n",
    "from sklearn.feature_extraction.text import CountVectorizer\n",
    "from collections import Counter\n",
    "import matplotlib.pyplot as plt\n",
    "\n",
    "%matplotlib inline"
   ]
  },
  {
   "cell_type": "markdown",
   "metadata": {},
   "source": [
    "# Grab descriptions"
   ]
  },
  {
   "cell_type": "code",
   "execution_count": 3,
   "metadata": {
    "ExecuteTime": {
     "end_time": "2018-06-04T18:49:04.401328Z",
     "start_time": "2018-06-04T18:49:04.391468Z"
    }
   },
   "outputs": [
    {
     "name": "stdout",
     "output_type": "stream",
     "text": [
      "3800\n",
      "['https://images.metmuseum.org/CRDImages/ma/mobile-large/DP324638.jpg', 'https://images.metmuseum.org/CRDImages/as/mobile-large/DT8397.jpg', 'https://images.metmuseum.org/CRDImages/ma/mobile-large/DP249696.jpg', 'https://images.metmuseum.org/CRDImages/as/mobile-large/DP222326_CRD.jpg', 'https://images.metmuseum.org/CRDImages/ma/mobile-large/1986.323.1 - color.jpg']\n"
     ]
    }
   ],
   "source": [
    "#jpgs\n",
    "with open('../data/jpgURL.pkl', 'rb') as picklefile:\n",
    "    jpgdata=pickle.load(picklefile)\n",
    "del jpgdata[2665] \n",
    "\n",
    "print(len(jpgdata))\n",
    "print(jpgdata[:5])\n"
   ]
  },
  {
   "cell_type": "code",
   "execution_count": 146,
   "metadata": {
    "ExecuteTime": {
     "end_time": "2018-06-04T18:32:28.483224Z",
     "start_time": "2018-06-04T18:32:28.471486Z"
    }
   },
   "outputs": [
    {
     "name": "stdout",
     "output_type": "stream",
     "text": [
      "3800\n",
      "['DP324638.jpg', 'DT8397.jpg', 'DP249696.jpg', 'DP222326_CRD.jpg', '1986.323.1 - color.jpg']\n"
     ]
    }
   ],
   "source": [
    "photos=[]\n",
    "\n",
    "len(jpgdata)\n",
    "for jpg in jpgdata:\n",
    "    photos.append(jpg.split('/')[-1])\n",
    "    \n",
    "print(len(photos))   \n",
    "print(photos[:5])\n"
   ]
  },
  {
   "cell_type": "code",
   "execution_count": 147,
   "metadata": {
    "ExecuteTime": {
     "end_time": "2018-06-04T18:32:29.203159Z",
     "start_time": "2018-06-04T18:32:29.192182Z"
    }
   },
   "outputs": [
    {
     "data": {
      "text/html": [
       "<div>\n",
       "<style>\n",
       "    .dataframe thead tr:only-child th {\n",
       "        text-align: right;\n",
       "    }\n",
       "\n",
       "    .dataframe thead th {\n",
       "        text-align: left;\n",
       "    }\n",
       "\n",
       "    .dataframe tbody tr th {\n",
       "        vertical-align: top;\n",
       "    }\n",
       "</style>\n",
       "<table border=\"1\" class=\"dataframe\">\n",
       "  <thead>\n",
       "    <tr style=\"text-align: right;\">\n",
       "      <th></th>\n",
       "      <th>image</th>\n",
       "    </tr>\n",
       "  </thead>\n",
       "  <tbody>\n",
       "    <tr>\n",
       "      <th>0</th>\n",
       "      <td>DP324638.jpg</td>\n",
       "    </tr>\n",
       "    <tr>\n",
       "      <th>1</th>\n",
       "      <td>DT8397.jpg</td>\n",
       "    </tr>\n",
       "    <tr>\n",
       "      <th>2</th>\n",
       "      <td>DP249696.jpg</td>\n",
       "    </tr>\n",
       "    <tr>\n",
       "      <th>3</th>\n",
       "      <td>DP222326_CRD.jpg</td>\n",
       "    </tr>\n",
       "    <tr>\n",
       "      <th>4</th>\n",
       "      <td>1986.323.1 - color.jpg</td>\n",
       "    </tr>\n",
       "  </tbody>\n",
       "</table>\n",
       "</div>"
      ],
      "text/plain": [
       "                    image\n",
       "0            DP324638.jpg\n",
       "1              DT8397.jpg\n",
       "2            DP249696.jpg\n",
       "3        DP222326_CRD.jpg\n",
       "4  1986.323.1 - color.jpg"
      ]
     },
     "execution_count": 147,
     "metadata": {},
     "output_type": "execute_result"
    }
   ],
   "source": [
    "pd.set_option('max_colwidth',100)\n",
    "df2 = pd.DataFrame({'image': photos})\n",
    "df2.head()\n"
   ]
  },
  {
   "cell_type": "code",
   "execution_count": 148,
   "metadata": {
    "ExecuteTime": {
     "end_time": "2018-06-04T18:32:29.886763Z",
     "start_time": "2018-06-04T18:32:29.876726Z"
    }
   },
   "outputs": [
    {
     "name": "stdout",
     "output_type": "stream",
     "text": [
      "3800\n",
      "['https://www.metmuseum.org/art/collection/search/638131', 'https://www.metmuseum.org/art/collection/search/41504', 'https://www.metmuseum.org/art/collection/search/488916', 'https://www.metmuseum.org/art/collection/search/75680', 'https://www.metmuseum.org/art/collection/search/484506']\n"
     ]
    }
   ],
   "source": [
    "with open('../data/siteURL.pkl', 'rb') as picklefile:\n",
    "    sitedata=pickle.load(picklefile)\n",
    "del sitedata[2665] \n",
    "\n",
    "print(len(sitedata))\n",
    "print(sitedata[:5])\n"
   ]
  },
  {
   "cell_type": "code",
   "execution_count": 149,
   "metadata": {
    "ExecuteTime": {
     "end_time": "2018-06-04T18:32:30.430188Z",
     "start_time": "2018-06-04T18:32:30.417071Z"
    }
   },
   "outputs": [
    {
     "data": {
      "text/html": [
       "<div>\n",
       "<style>\n",
       "    .dataframe thead tr:only-child th {\n",
       "        text-align: right;\n",
       "    }\n",
       "\n",
       "    .dataframe thead th {\n",
       "        text-align: left;\n",
       "    }\n",
       "\n",
       "    .dataframe tbody tr th {\n",
       "        vertical-align: top;\n",
       "    }\n",
       "</style>\n",
       "<table border=\"1\" class=\"dataframe\">\n",
       "  <thead>\n",
       "    <tr style=\"text-align: right;\">\n",
       "      <th></th>\n",
       "      <th>url</th>\n",
       "    </tr>\n",
       "  </thead>\n",
       "  <tbody>\n",
       "    <tr>\n",
       "      <th>0</th>\n",
       "      <td>https://www.metmuseum.org/art/collection/search/638131</td>\n",
       "    </tr>\n",
       "    <tr>\n",
       "      <th>1</th>\n",
       "      <td>https://www.metmuseum.org/art/collection/search/41504</td>\n",
       "    </tr>\n",
       "    <tr>\n",
       "      <th>2</th>\n",
       "      <td>https://www.metmuseum.org/art/collection/search/488916</td>\n",
       "    </tr>\n",
       "    <tr>\n",
       "      <th>3</th>\n",
       "      <td>https://www.metmuseum.org/art/collection/search/75680</td>\n",
       "    </tr>\n",
       "    <tr>\n",
       "      <th>4</th>\n",
       "      <td>https://www.metmuseum.org/art/collection/search/484506</td>\n",
       "    </tr>\n",
       "  </tbody>\n",
       "</table>\n",
       "</div>"
      ],
      "text/plain": [
       "                                                      url\n",
       "0  https://www.metmuseum.org/art/collection/search/638131\n",
       "1   https://www.metmuseum.org/art/collection/search/41504\n",
       "2  https://www.metmuseum.org/art/collection/search/488916\n",
       "3   https://www.metmuseum.org/art/collection/search/75680\n",
       "4  https://www.metmuseum.org/art/collection/search/484506"
      ]
     },
     "execution_count": 149,
     "metadata": {},
     "output_type": "execute_result"
    }
   ],
   "source": [
    "pd.set_option('max_colwidth',100)\n",
    "df1 = pd.DataFrame({'url': sitedata})\n",
    "df1.head()\n"
   ]
  },
  {
   "cell_type": "code",
   "execution_count": 4,
   "metadata": {
    "ExecuteTime": {
     "end_time": "2018-06-04T18:50:26.593928Z",
     "start_time": "2018-06-04T18:50:26.574030Z"
    }
   },
   "outputs": [
    {
     "name": "stdout",
     "output_type": "stream",
     "text": [
      "3800\n"
     ]
    }
   ],
   "source": [
    "with open('../data/desc.pkl', 'rb') as picklefile: \n",
    "    data = pickle.load(picklefile)\n",
    "print(len(data))\n",
    "#print(data)\n"
   ]
  },
  {
   "cell_type": "code",
   "execution_count": 151,
   "metadata": {
    "ExecuteTime": {
     "end_time": "2018-06-04T18:32:31.521690Z",
     "start_time": "2018-06-04T18:32:31.499655Z"
    }
   },
   "outputs": [
    {
     "data": {
      "text/html": [
       "<div>\n",
       "<style>\n",
       "    .dataframe thead tr:only-child th {\n",
       "        text-align: right;\n",
       "    }\n",
       "\n",
       "    .dataframe thead th {\n",
       "        text-align: left;\n",
       "    }\n",
       "\n",
       "    .dataframe tbody tr th {\n",
       "        vertical-align: top;\n",
       "    }\n",
       "</style>\n",
       "<table border=\"1\" class=\"dataframe\">\n",
       "  <thead>\n",
       "    <tr style=\"text-align: right;\">\n",
       "      <th></th>\n",
       "      <th>AccessionNumber</th>\n",
       "      <th>Artist</th>\n",
       "      <th>Blurb</th>\n",
       "      <th>Date</th>\n",
       "      <th>Medium</th>\n",
       "    </tr>\n",
       "  </thead>\n",
       "  <tbody>\n",
       "    <tr>\n",
       "      <th>0</th>\n",
       "      <td>2014.142</td>\n",
       "      <td>Bumpei Usui (American (born Japan), Nagano 1898–1994 New York)</td>\n",
       "      <td>The playful experimentation with perspective and proportions in this depiction of men and boys a...</td>\n",
       "      <td>1925</td>\n",
       "      <td>Oil on canvas</td>\n",
       "    </tr>\n",
       "    <tr>\n",
       "      <th>1</th>\n",
       "      <td>1986.267.156</td>\n",
       "      <td>Wang Zhen (Chinese, 1867–1938)</td>\n",
       "      <td>A successful Shanghai businessman as well as a devout Buddhist, Wang Zhen is best known for his ...</td>\n",
       "      <td>dated 1928</td>\n",
       "      <td>Hanging scroll; ink and color on paper</td>\n",
       "    </tr>\n",
       "    <tr>\n",
       "      <th>2</th>\n",
       "      <td>56.205.2</td>\n",
       "      <td>Willem de Kooning (American (born The Netherlands), Rotterdam 1904–1997 East Hampton, New York)</td>\n",
       "      <td>Easter Monday, named for the day on which the painting was completed in 1956, is the largest of ...</td>\n",
       "      <td>1955–56</td>\n",
       "      <td>Oil and newspaper transfer on canvas</td>\n",
       "    </tr>\n",
       "    <tr>\n",
       "      <th>3</th>\n",
       "      <td>2005.411.16.63</td>\n",
       "      <td>Xie Zhiliu (Chinese, 1910–1997)</td>\n",
       "      <td>Although he was well versed in Western methods of rendering spatial recession, Xie's ability to ...</td>\n",
       "      <td>Datable to the 1930s</td>\n",
       "      <td>Sheet from a sketchbook; pencil on paper</td>\n",
       "    </tr>\n",
       "    <tr>\n",
       "      <th>4</th>\n",
       "      <td>1986.323.1</td>\n",
       "      <td>Anne Ryan (American, Hoboken, New Jersey 1889–1954 Morristown, New Jersey)</td>\n",
       "      <td></td>\n",
       "      <td>1948</td>\n",
       "      <td>Oil on canvas</td>\n",
       "    </tr>\n",
       "  </tbody>\n",
       "</table>\n",
       "</div>"
      ],
      "text/plain": [
       "  AccessionNumber  \\\n",
       "0        2014.142   \n",
       "1    1986.267.156   \n",
       "2        56.205.2   \n",
       "3  2005.411.16.63   \n",
       "4      1986.323.1   \n",
       "\n",
       "                                                                                            Artist  \\\n",
       "0                                   Bumpei Usui (American (born Japan), Nagano 1898–1994 New York)   \n",
       "1                                                                   Wang Zhen (Chinese, 1867–1938)   \n",
       "2  Willem de Kooning (American (born The Netherlands), Rotterdam 1904–1997 East Hampton, New York)   \n",
       "3                                                                  Xie Zhiliu (Chinese, 1910–1997)   \n",
       "4                       Anne Ryan (American, Hoboken, New Jersey 1889–1954 Morristown, New Jersey)   \n",
       "\n",
       "                                                                                                 Blurb  \\\n",
       "0  The playful experimentation with perspective and proportions in this depiction of men and boys a...   \n",
       "1  A successful Shanghai businessman as well as a devout Buddhist, Wang Zhen is best known for his ...   \n",
       "2  Easter Monday, named for the day on which the painting was completed in 1956, is the largest of ...   \n",
       "3  Although he was well versed in Western methods of rendering spatial recession, Xie's ability to ...   \n",
       "4                                                                                                        \n",
       "\n",
       "                   Date                                    Medium  \n",
       "0                  1925                             Oil on canvas  \n",
       "1            dated 1928    Hanging scroll; ink and color on paper  \n",
       "2               1955–56      Oil and newspaper transfer on canvas  \n",
       "3  Datable to the 1930s  Sheet from a sketchbook; pencil on paper  \n",
       "4                  1948                             Oil on canvas  "
      ]
     },
     "execution_count": 151,
     "metadata": {},
     "output_type": "execute_result"
    }
   ],
   "source": [
    "data1=pd.DataFrame(data)\n",
    "data1.head()\n"
   ]
  },
  {
   "cell_type": "code",
   "execution_count": 152,
   "metadata": {
    "ExecuteTime": {
     "end_time": "2018-06-04T18:32:32.251748Z",
     "start_time": "2018-06-04T18:32:32.232147Z"
    }
   },
   "outputs": [
    {
     "data": {
      "text/html": [
       "<div>\n",
       "<style>\n",
       "    .dataframe thead tr:only-child th {\n",
       "        text-align: right;\n",
       "    }\n",
       "\n",
       "    .dataframe thead th {\n",
       "        text-align: left;\n",
       "    }\n",
       "\n",
       "    .dataframe tbody tr th {\n",
       "        vertical-align: top;\n",
       "    }\n",
       "</style>\n",
       "<table border=\"1\" class=\"dataframe\">\n",
       "  <thead>\n",
       "    <tr style=\"text-align: right;\">\n",
       "      <th></th>\n",
       "      <th>AccessionNumber</th>\n",
       "      <th>Artist</th>\n",
       "      <th>Blurb</th>\n",
       "      <th>Date</th>\n",
       "      <th>Medium</th>\n",
       "      <th>url</th>\n",
       "      <th>image</th>\n",
       "    </tr>\n",
       "  </thead>\n",
       "  <tbody>\n",
       "    <tr>\n",
       "      <th>0</th>\n",
       "      <td>2014.142</td>\n",
       "      <td>Bumpei Usui (American (born Japan), Nagano 1898–1994 New York)</td>\n",
       "      <td>The playful experimentation with perspective and proportions in this depiction of men and boys a...</td>\n",
       "      <td>1925</td>\n",
       "      <td>Oil on canvas</td>\n",
       "      <td>https://www.metmuseum.org/art/collection/search/638131</td>\n",
       "      <td>DP324638.jpg</td>\n",
       "    </tr>\n",
       "    <tr>\n",
       "      <th>1</th>\n",
       "      <td>1986.267.156</td>\n",
       "      <td>Wang Zhen (Chinese, 1867–1938)</td>\n",
       "      <td>A successful Shanghai businessman as well as a devout Buddhist, Wang Zhen is best known for his ...</td>\n",
       "      <td>dated 1928</td>\n",
       "      <td>Hanging scroll; ink and color on paper</td>\n",
       "      <td>https://www.metmuseum.org/art/collection/search/41504</td>\n",
       "      <td>DT8397.jpg</td>\n",
       "    </tr>\n",
       "    <tr>\n",
       "      <th>2</th>\n",
       "      <td>56.205.2</td>\n",
       "      <td>Willem de Kooning (American (born The Netherlands), Rotterdam 1904–1997 East Hampton, New York)</td>\n",
       "      <td>Easter Monday, named for the day on which the painting was completed in 1956, is the largest of ...</td>\n",
       "      <td>1955–56</td>\n",
       "      <td>Oil and newspaper transfer on canvas</td>\n",
       "      <td>https://www.metmuseum.org/art/collection/search/488916</td>\n",
       "      <td>DP249696.jpg</td>\n",
       "    </tr>\n",
       "    <tr>\n",
       "      <th>3</th>\n",
       "      <td>2005.411.16.63</td>\n",
       "      <td>Xie Zhiliu (Chinese, 1910–1997)</td>\n",
       "      <td>Although he was well versed in Western methods of rendering spatial recession, Xie's ability to ...</td>\n",
       "      <td>Datable to the 1930s</td>\n",
       "      <td>Sheet from a sketchbook; pencil on paper</td>\n",
       "      <td>https://www.metmuseum.org/art/collection/search/75680</td>\n",
       "      <td>DP222326_CRD.jpg</td>\n",
       "    </tr>\n",
       "    <tr>\n",
       "      <th>4</th>\n",
       "      <td>1986.323.1</td>\n",
       "      <td>Anne Ryan (American, Hoboken, New Jersey 1889–1954 Morristown, New Jersey)</td>\n",
       "      <td></td>\n",
       "      <td>1948</td>\n",
       "      <td>Oil on canvas</td>\n",
       "      <td>https://www.metmuseum.org/art/collection/search/484506</td>\n",
       "      <td>1986.323.1 - color.jpg</td>\n",
       "    </tr>\n",
       "  </tbody>\n",
       "</table>\n",
       "</div>"
      ],
      "text/plain": [
       "  AccessionNumber  \\\n",
       "0        2014.142   \n",
       "1    1986.267.156   \n",
       "2        56.205.2   \n",
       "3  2005.411.16.63   \n",
       "4      1986.323.1   \n",
       "\n",
       "                                                                                            Artist  \\\n",
       "0                                   Bumpei Usui (American (born Japan), Nagano 1898–1994 New York)   \n",
       "1                                                                   Wang Zhen (Chinese, 1867–1938)   \n",
       "2  Willem de Kooning (American (born The Netherlands), Rotterdam 1904–1997 East Hampton, New York)   \n",
       "3                                                                  Xie Zhiliu (Chinese, 1910–1997)   \n",
       "4                       Anne Ryan (American, Hoboken, New Jersey 1889–1954 Morristown, New Jersey)   \n",
       "\n",
       "                                                                                                 Blurb  \\\n",
       "0  The playful experimentation with perspective and proportions in this depiction of men and boys a...   \n",
       "1  A successful Shanghai businessman as well as a devout Buddhist, Wang Zhen is best known for his ...   \n",
       "2  Easter Monday, named for the day on which the painting was completed in 1956, is the largest of ...   \n",
       "3  Although he was well versed in Western methods of rendering spatial recession, Xie's ability to ...   \n",
       "4                                                                                                        \n",
       "\n",
       "                   Date                                    Medium  \\\n",
       "0                  1925                             Oil on canvas   \n",
       "1            dated 1928    Hanging scroll; ink and color on paper   \n",
       "2               1955–56      Oil and newspaper transfer on canvas   \n",
       "3  Datable to the 1930s  Sheet from a sketchbook; pencil on paper   \n",
       "4                  1948                             Oil on canvas   \n",
       "\n",
       "                                                      url  \\\n",
       "0  https://www.metmuseum.org/art/collection/search/638131   \n",
       "1   https://www.metmuseum.org/art/collection/search/41504   \n",
       "2  https://www.metmuseum.org/art/collection/search/488916   \n",
       "3   https://www.metmuseum.org/art/collection/search/75680   \n",
       "4  https://www.metmuseum.org/art/collection/search/484506   \n",
       "\n",
       "                    image  \n",
       "0            DP324638.jpg  \n",
       "1              DT8397.jpg  \n",
       "2            DP249696.jpg  \n",
       "3        DP222326_CRD.jpg  \n",
       "4  1986.323.1 - color.jpg  "
      ]
     },
     "execution_count": 152,
     "metadata": {},
     "output_type": "execute_result"
    }
   ],
   "source": [
    "pd.set_option('max_colwidth',100)\n",
    "#frames = [data1, df1]\n",
    "#result = pd.concat(frames)\n",
    "#result\n",
    "\n",
    "df3=pd.concat([data1, df1, df2], axis=1)\n",
    "df3.head()\n"
   ]
  },
  {
   "cell_type": "code",
   "execution_count": 153,
   "metadata": {
    "ExecuteTime": {
     "end_time": "2018-06-04T18:32:32.976253Z",
     "start_time": "2018-06-04T18:32:32.954514Z"
    }
   },
   "outputs": [
    {
     "data": {
      "text/html": [
       "<div>\n",
       "<style>\n",
       "    .dataframe thead tr:only-child th {\n",
       "        text-align: right;\n",
       "    }\n",
       "\n",
       "    .dataframe thead th {\n",
       "        text-align: left;\n",
       "    }\n",
       "\n",
       "    .dataframe tbody tr th {\n",
       "        vertical-align: top;\n",
       "    }\n",
       "</style>\n",
       "<table border=\"1\" class=\"dataframe\">\n",
       "  <thead>\n",
       "    <tr style=\"text-align: right;\">\n",
       "      <th></th>\n",
       "      <th>index</th>\n",
       "      <th>AccessionNumber</th>\n",
       "      <th>Artist</th>\n",
       "      <th>Blurb</th>\n",
       "      <th>Date</th>\n",
       "      <th>Medium</th>\n",
       "      <th>url</th>\n",
       "      <th>image</th>\n",
       "    </tr>\n",
       "  </thead>\n",
       "  <tbody>\n",
       "    <tr>\n",
       "      <th>0</th>\n",
       "      <td>0</td>\n",
       "      <td>2014.142</td>\n",
       "      <td>Bumpei Usui (American (born Japan), Nagano 1898–1994 New York)</td>\n",
       "      <td>The playful experimentation with perspective and proportions in this depiction of men and boys a...</td>\n",
       "      <td>1925</td>\n",
       "      <td>Oil on canvas</td>\n",
       "      <td>https://www.metmuseum.org/art/collection/search/638131</td>\n",
       "      <td>DP324638.jpg</td>\n",
       "    </tr>\n",
       "    <tr>\n",
       "      <th>1</th>\n",
       "      <td>1</td>\n",
       "      <td>1986.267.156</td>\n",
       "      <td>Wang Zhen (Chinese, 1867–1938)</td>\n",
       "      <td>A successful Shanghai businessman as well as a devout Buddhist, Wang Zhen is best known for his ...</td>\n",
       "      <td>dated 1928</td>\n",
       "      <td>Hanging scroll; ink and color on paper</td>\n",
       "      <td>https://www.metmuseum.org/art/collection/search/41504</td>\n",
       "      <td>DT8397.jpg</td>\n",
       "    </tr>\n",
       "    <tr>\n",
       "      <th>2</th>\n",
       "      <td>2</td>\n",
       "      <td>56.205.2</td>\n",
       "      <td>Willem de Kooning (American (born The Netherlands), Rotterdam 1904–1997 East Hampton, New York)</td>\n",
       "      <td>Easter Monday, named for the day on which the painting was completed in 1956, is the largest of ...</td>\n",
       "      <td>1955–56</td>\n",
       "      <td>Oil and newspaper transfer on canvas</td>\n",
       "      <td>https://www.metmuseum.org/art/collection/search/488916</td>\n",
       "      <td>DP249696.jpg</td>\n",
       "    </tr>\n",
       "    <tr>\n",
       "      <th>3</th>\n",
       "      <td>3</td>\n",
       "      <td>2005.411.16.63</td>\n",
       "      <td>Xie Zhiliu (Chinese, 1910–1997)</td>\n",
       "      <td>Although he was well versed in Western methods of rendering spatial recession, Xie's ability to ...</td>\n",
       "      <td>Datable to the 1930s</td>\n",
       "      <td>Sheet from a sketchbook; pencil on paper</td>\n",
       "      <td>https://www.metmuseum.org/art/collection/search/75680</td>\n",
       "      <td>DP222326_CRD.jpg</td>\n",
       "    </tr>\n",
       "    <tr>\n",
       "      <th>4</th>\n",
       "      <td>8</td>\n",
       "      <td>1986.267.155</td>\n",
       "      <td>Wang Zhen (Chinese, 1867–1938)</td>\n",
       "      <td>The strong, even brushline Wang Zhen learned from Wu Changshi (1844–1927) is evident in this exu...</td>\n",
       "      <td>dated 1917</td>\n",
       "      <td>Hanging scroll; ink and color on paper</td>\n",
       "      <td>https://www.metmuseum.org/art/collection/search/49630</td>\n",
       "      <td>1986_267_155_O.jpg</td>\n",
       "    </tr>\n",
       "  </tbody>\n",
       "</table>\n",
       "</div>"
      ],
      "text/plain": [
       "   index AccessionNumber  \\\n",
       "0      0        2014.142   \n",
       "1      1    1986.267.156   \n",
       "2      2        56.205.2   \n",
       "3      3  2005.411.16.63   \n",
       "4      8    1986.267.155   \n",
       "\n",
       "                                                                                            Artist  \\\n",
       "0                                   Bumpei Usui (American (born Japan), Nagano 1898–1994 New York)   \n",
       "1                                                                   Wang Zhen (Chinese, 1867–1938)   \n",
       "2  Willem de Kooning (American (born The Netherlands), Rotterdam 1904–1997 East Hampton, New York)   \n",
       "3                                                                  Xie Zhiliu (Chinese, 1910–1997)   \n",
       "4                                                                   Wang Zhen (Chinese, 1867–1938)   \n",
       "\n",
       "                                                                                                 Blurb  \\\n",
       "0  The playful experimentation with perspective and proportions in this depiction of men and boys a...   \n",
       "1  A successful Shanghai businessman as well as a devout Buddhist, Wang Zhen is best known for his ...   \n",
       "2  Easter Monday, named for the day on which the painting was completed in 1956, is the largest of ...   \n",
       "3  Although he was well versed in Western methods of rendering spatial recession, Xie's ability to ...   \n",
       "4  The strong, even brushline Wang Zhen learned from Wu Changshi (1844–1927) is evident in this exu...   \n",
       "\n",
       "                   Date                                    Medium  \\\n",
       "0                  1925                             Oil on canvas   \n",
       "1            dated 1928    Hanging scroll; ink and color on paper   \n",
       "2               1955–56      Oil and newspaper transfer on canvas   \n",
       "3  Datable to the 1930s  Sheet from a sketchbook; pencil on paper   \n",
       "4            dated 1917    Hanging scroll; ink and color on paper   \n",
       "\n",
       "                                                      url               image  \n",
       "0  https://www.metmuseum.org/art/collection/search/638131        DP324638.jpg  \n",
       "1   https://www.metmuseum.org/art/collection/search/41504          DT8397.jpg  \n",
       "2  https://www.metmuseum.org/art/collection/search/488916        DP249696.jpg  \n",
       "3   https://www.metmuseum.org/art/collection/search/75680    DP222326_CRD.jpg  \n",
       "4   https://www.metmuseum.org/art/collection/search/49630  1986_267_155_O.jpg  "
      ]
     },
     "execution_count": 153,
     "metadata": {},
     "output_type": "execute_result"
    }
   ],
   "source": [
    "df4=df3[df3['Blurb'].map(len) > 0]\n",
    "df4.reset_index().head()\n"
   ]
  },
  {
   "cell_type": "code",
   "execution_count": 154,
   "metadata": {
    "ExecuteTime": {
     "end_time": "2018-06-04T18:32:33.704369Z",
     "start_time": "2018-06-04T18:32:33.697113Z"
    }
   },
   "outputs": [
    {
     "data": {
      "text/plain": [
       "AccessionNumber                                                                                                 55.179\n",
       "Artist                                                                                  Kay Sage (American, 1898–1963)\n",
       "Blurb              One of the most prominent women associated with Surrealism in the United States, Kay Sage made t...\n",
       "Date                                                                                                              1955\n",
       "Medium                                                                                                   Oil on canvas\n",
       "url                                                             https://www.metmuseum.org/art/collection/search/488856\n",
       "image                                                                                                     DT212135.jpg\n",
       "Name: 906, dtype: object"
      ]
     },
     "execution_count": 154,
     "metadata": {},
     "output_type": "execute_result"
    }
   ],
   "source": [
    "######\n",
    "df4.iloc[277]"
   ]
  },
  {
   "cell_type": "code",
   "execution_count": 155,
   "metadata": {
    "ExecuteTime": {
     "end_time": "2018-06-04T18:32:34.268030Z",
     "start_time": "2018-06-04T18:32:34.256995Z"
    }
   },
   "outputs": [
    {
     "name": "stdout",
     "output_type": "stream",
     "text": [
      "1106\n"
     ]
    }
   ],
   "source": [
    "blurbs=[]\n",
    "\n",
    "count = 0\n",
    "for entry in data:\n",
    "    if len(entry['Blurb']) > 0:\n",
    "        #print(entry['Blurb'])\n",
    "        blurbs.append(entry['Blurb'])\n",
    "        count += 1\n",
    "print(count)        "
   ]
  },
  {
   "cell_type": "code",
   "execution_count": 156,
   "metadata": {
    "ExecuteTime": {
     "end_time": "2018-06-04T18:32:34.840630Z",
     "start_time": "2018-06-04T18:32:34.834505Z"
    }
   },
   "outputs": [
    {
     "data": {
      "text/plain": [
       "1106"
      ]
     },
     "execution_count": 156,
     "metadata": {},
     "output_type": "execute_result"
    }
   ],
   "source": [
    "len(blurbs)"
   ]
  },
  {
   "cell_type": "code",
   "execution_count": 157,
   "metadata": {
    "ExecuteTime": {
     "end_time": "2018-06-04T18:32:35.373647Z",
     "start_time": "2018-06-04T18:32:35.368263Z"
    }
   },
   "outputs": [
    {
     "data": {
      "text/plain": [
       "'The playful experimentation with perspective and proportions in this depiction of men and boys absorbed in various tasks related to furniture manufacture fills the canvas with frenetic energy. Details, such as the wide range of tools and machinery that animate the interior, reveal Usui’s own extensive knowledge of woodworking. Following his immigration to New York from Japan, Usui integrated into the city’s art community through his trade as a frame maker, through which he met many leading contemporary painters.'"
      ]
     },
     "execution_count": 157,
     "metadata": {},
     "output_type": "execute_result"
    }
   ],
   "source": [
    "blurbs[0]"
   ]
  },
  {
   "cell_type": "markdown",
   "metadata": {},
   "source": [
    "# fit a single description"
   ]
  },
  {
   "cell_type": "code",
   "execution_count": 158,
   "metadata": {
    "ExecuteTime": {
     "end_time": "2018-06-04T18:32:37.099999Z",
     "start_time": "2018-06-04T18:32:37.094421Z"
    }
   },
   "outputs": [
    {
     "data": {
      "text/plain": [
       "'The playful experimentation with perspective and proportions in this depiction of men and boys absorbed in various tasks related to furniture manufacture fills the canvas with frenetic energy. Details, such as the wide range of tools and machinery that animate the interior, reveal Usui’s own extensive knowledge of woodworking. Following his immigration to New York from Japan, Usui integrated into the city’s art community through his trade as a frame maker, through which he met many leading contemporary painters.'"
      ]
     },
     "execution_count": 158,
     "metadata": {},
     "output_type": "execute_result"
    }
   ],
   "source": [
    "# fit a single description\n",
    "blurbs[0]"
   ]
  },
  {
   "cell_type": "code",
   "execution_count": 159,
   "metadata": {
    "ExecuteTime": {
     "end_time": "2018-06-04T18:32:37.582768Z",
     "start_time": "2018-06-04T18:32:37.573800Z"
    }
   },
   "outputs": [
    {
     "name": "stdout",
     "output_type": "stream",
     "text": [
      "['The', 'playful', 'experimentation', 'with', 'perspective', 'and', 'proportions', 'in', 'this', 'depiction', 'of', 'men', 'and', 'boys', 'absorbed', 'in', 'various', 'tasks', 'related', 'to', 'furniture', 'manufacture', 'fills', 'the', 'canvas', 'with', 'frenetic', 'energy', '.', 'Details', ',', 'such', 'as', 'the', 'wide', 'range', 'of', 'tools', 'and', 'machinery', 'that', 'animate', 'the', 'interior', ',', 'reveal', 'Usui', '’', 's', 'own', 'extensive', 'knowledge', 'of', 'woodworking', '.', 'Following', 'his', 'immigration', 'to', 'New', 'York', 'from', 'Japan', ',', 'Usui', 'integrated', 'into', 'the', 'city', '’', 's', 'art', 'community', 'through', 'his', 'trade', 'as', 'a', 'frame', 'maker', ',', 'through', 'which', 'he', 'met', 'many', 'leading', 'contemporary', 'painters', '.']\n"
     ]
    }
   ],
   "source": [
    "#setence or word tokenization needed\n",
    "doc=[]\n",
    "#word tokenization\n",
    "words = word_tokenize(blurbs[0])\n",
    "print(words)\n",
    "\n",
    "doc.append(words)\n"
   ]
  },
  {
   "cell_type": "code",
   "execution_count": 160,
   "metadata": {
    "ExecuteTime": {
     "end_time": "2018-06-04T18:32:38.109869Z",
     "start_time": "2018-06-04T18:32:38.102555Z"
    }
   },
   "outputs": [
    {
     "name": "stdout",
     "output_type": "stream",
     "text": [
      "[['The', 'playful', 'experimentation', 'with', 'perspective', 'and', 'proportions', 'in', 'this', 'depiction', 'of', 'men', 'and', 'boys', 'absorbed', 'in', 'various', 'tasks', 'related', 'to', 'furniture', 'manufacture', 'fills', 'the', 'canvas', 'with', 'frenetic', 'energy', '.', 'Details', ',', 'such', 'as', 'the', 'wide', 'range', 'of', 'tools', 'and', 'machinery', 'that', 'animate', 'the', 'interior', ',', 'reveal', 'Usui', '’', 's', 'own', 'extensive', 'knowledge', 'of', 'woodworking', '.', 'Following', 'his', 'immigration', 'to', 'New', 'York', 'from', 'Japan', ',', 'Usui', 'integrated', 'into', 'the', 'city', '’', 's', 'art', 'community', 'through', 'his', 'trade', 'as', 'a', 'frame', 'maker', ',', 'through', 'which', 'he', 'met', 'many', 'leading', 'contemporary', 'painters', '.']]\n",
      "1\n"
     ]
    }
   ],
   "source": [
    "print(doc)\n",
    "print(len(doc))\n",
    "#print(len(words))\n",
    "\n",
    "#print(len(sentences))"
   ]
  },
  {
   "cell_type": "markdown",
   "metadata": {
    "collapsed": true
   },
   "source": [
    "# tf-idf"
   ]
  },
  {
   "cell_type": "code",
   "execution_count": 161,
   "metadata": {
    "ExecuteTime": {
     "end_time": "2018-06-04T18:32:40.098864Z",
     "start_time": "2018-06-04T18:32:40.091811Z"
    },
    "collapsed": true
   },
   "outputs": [],
   "source": [
    "vectorizer = TfidfVectorizer(stop_words=\"english\") #max_df=0.95, min_df=2,\n",
    "doc_vectors = vectorizer.fit_transform(words)"
   ]
  },
  {
   "cell_type": "markdown",
   "metadata": {},
   "source": [
    "# NMF"
   ]
  },
  {
   "cell_type": "code",
   "execution_count": 43,
   "metadata": {
    "ExecuteTime": {
     "end_time": "2018-06-04T17:53:54.217726Z",
     "start_time": "2018-06-04T17:53:54.208205Z"
    },
    "collapsed": true
   },
   "outputs": [],
   "source": [
    "n_components=3\n",
    "n_top_words = 5\n",
    "\n",
    "def print_top_words(model, feature_names, n_top_words):\n",
    "    for topic_idx, topic in enumerate(model.components_):\n",
    "        message = \"Topic #%d: \" % topic_idx\n",
    "        message += \" \".join([feature_names[i]\n",
    "                             for i in topic.argsort()[:-n_top_words - 1:-1]])\n",
    "        print(message)\n",
    "    print()"
   ]
  },
  {
   "cell_type": "code",
   "execution_count": 45,
   "metadata": {
    "ExecuteTime": {
     "end_time": "2018-06-04T17:53:59.619033Z",
     "start_time": "2018-06-04T17:53:59.585441Z"
    },
    "collapsed": true
   },
   "outputs": [],
   "source": [
    "#fit the NMF model\n",
    "model = NMF(n_components=n_components, random_state=1, alpha=.1, l1_ratio=.5, init='nndsvd')\n",
    "nmf = model.fit(doc_vectors) #learn a NMF model for the data in doc_vectors\n"
   ]
  },
  {
   "cell_type": "code",
   "execution_count": 46,
   "metadata": {
    "ExecuteTime": {
     "end_time": "2018-06-04T17:54:02.664671Z",
     "start_time": "2018-06-04T17:54:02.656624Z"
    }
   },
   "outputs": [
    {
     "name": "stdout",
     "output_type": "stream",
     "text": [
      "Topic #0: usui york energy integrated immigration\n",
      "Topic #1: integrated york japan immigration furniture\n",
      "Topic #2: woodworking experimentation interior integrated immigration\n",
      "\n"
     ]
    }
   ],
   "source": [
    "tfidf_feature_names = vectorizer.get_feature_names()\n",
    "print_top_words(nmf, tfidf_feature_names, n_top_words)"
   ]
  },
  {
   "cell_type": "code",
   "execution_count": 47,
   "metadata": {
    "ExecuteTime": {
     "end_time": "2018-06-04T17:54:06.653197Z",
     "start_time": "2018-06-04T17:54:06.640903Z"
    },
    "collapsed": true
   },
   "outputs": [],
   "source": [
    "tp = nmf.fit_transform(doc_vectors)"
   ]
  },
  {
   "cell_type": "code",
   "execution_count": 48,
   "metadata": {
    "ExecuteTime": {
     "end_time": "2018-06-04T17:54:07.377283Z",
     "start_time": "2018-06-04T17:54:07.370872Z"
    }
   },
   "outputs": [
    {
     "data": {
      "text/plain": [
       "90"
      ]
     },
     "execution_count": 48,
     "metadata": {},
     "output_type": "execute_result"
    }
   ],
   "source": [
    "len(tp)"
   ]
  },
  {
   "cell_type": "code",
   "execution_count": 56,
   "metadata": {
    "ExecuteTime": {
     "end_time": "2018-06-04T17:55:18.494887Z",
     "start_time": "2018-06-04T17:55:18.487903Z"
    }
   },
   "outputs": [
    {
     "data": {
      "text/plain": [
       "array([[ 0.        ,  0.        ,  0.        ],\n",
       "       [ 0.        ,  0.        ,  0.        ],\n",
       "       [ 0.        ,  0.        ,  0.        ],\n",
       "       [ 0.        ,  0.        ,  0.        ],\n",
       "       [ 0.        ,  0.        ,  0.        ],\n",
       "       [ 0.        ,  0.        ,  0.        ],\n",
       "       [ 0.76366673,  0.        ,  0.        ],\n",
       "       [ 0.        ,  0.        ,  0.        ],\n",
       "       [ 0.        ,  0.        ,  0.        ],\n",
       "       [ 0.        ,  0.        ,  0.        ]])"
      ]
     },
     "execution_count": 56,
     "metadata": {},
     "output_type": "execute_result"
    }
   ],
   "source": [
    "tp[40:50]"
   ]
  },
  {
   "cell_type": "markdown",
   "metadata": {},
   "source": [
    "# fit a few descriptions"
   ]
  },
  {
   "cell_type": "code",
   "execution_count": 142,
   "metadata": {
    "ExecuteTime": {
     "end_time": "2018-06-04T18:16:51.773332Z",
     "start_time": "2018-06-04T18:16:51.767324Z"
    }
   },
   "outputs": [
    {
     "data": {
      "text/plain": [
       "['The playful experimentation with perspective and proportions in this depiction of men and boys absorbed in various tasks related to furniture manufacture fills the canvas with frenetic energy. Details, such as the wide range of tools and machinery that animate the interior, reveal Usui’s own extensive knowledge of woodworking. Following his immigration to New York from Japan, Usui integrated into the city’s art community through his trade as a frame maker, through which he met many leading contemporary painters.']"
      ]
     },
     "execution_count": 142,
     "metadata": {},
     "output_type": "execute_result"
    }
   ],
   "source": [
    "blurbs[0:1]"
   ]
  },
  {
   "cell_type": "markdown",
   "metadata": {},
   "source": [
    "# Lemmatize and remove stop words"
   ]
  },
  {
   "cell_type": "code",
   "execution_count": 57,
   "metadata": {
    "ExecuteTime": {
     "end_time": "2018-06-04T18:00:04.144178Z",
     "start_time": "2018-06-04T18:00:04.130939Z"
    },
    "collapsed": true
   },
   "outputs": [],
   "source": [
    "#setence or word tokenization needed\n",
    "\n",
    "doc=[]\n",
    "#word tokenization\n",
    "for blurb in blurbs[0:3]:\n",
    "    words = word_tokenize(blurb)\n",
    "    #print(words)\n",
    "    doc.append(words)\n"
   ]
  },
  {
   "cell_type": "code",
   "execution_count": 58,
   "metadata": {
    "ExecuteTime": {
     "end_time": "2018-06-04T18:00:21.798552Z",
     "start_time": "2018-06-04T18:00:21.791702Z"
    }
   },
   "outputs": [
    {
     "name": "stdout",
     "output_type": "stream",
     "text": [
      "[['The', 'playful', 'experimentation', 'with', 'perspective', 'and', 'proportions', 'in', 'this', 'depiction', 'of', 'men', 'and', 'boys', 'absorbed', 'in', 'various', 'tasks', 'related', 'to', 'furniture', 'manufacture', 'fills', 'the', 'canvas', 'with', 'frenetic', 'energy', '.', 'Details', ',', 'such', 'as', 'the', 'wide', 'range', 'of', 'tools', 'and', 'machinery', 'that', 'animate', 'the', 'interior', ',', 'reveal', 'Usui', '’', 's', 'own', 'extensive', 'knowledge', 'of', 'woodworking', '.', 'Following', 'his', 'immigration', 'to', 'New', 'York', 'from', 'Japan', ',', 'Usui', 'integrated', 'into', 'the', 'city', '’', 's', 'art', 'community', 'through', 'his', 'trade', 'as', 'a', 'frame', 'maker', ',', 'through', 'which', 'he', 'met', 'many', 'leading', 'contemporary', 'painters', '.']]\n",
      "3\n"
     ]
    }
   ],
   "source": [
    "print(doc[:1])\n",
    "print(len(doc))\n",
    "#print(len(words))\n",
    "\n",
    "#print(len(sentences))"
   ]
  },
  {
   "cell_type": "markdown",
   "metadata": {},
   "source": [
    "# tf-idf"
   ]
  },
  {
   "cell_type": "code",
   "execution_count": 60,
   "metadata": {
    "ExecuteTime": {
     "end_time": "2018-06-04T18:00:53.665135Z",
     "start_time": "2018-06-04T18:00:43.262042Z"
    },
    "collapsed": true
   },
   "outputs": [],
   "source": [
    "lemmatizer = WordNetLemmatizer()\n",
    "\n",
    "blurbstokenized=[]\n",
    "\n",
    "for blurb in blurbs:\n",
    "    blurb1=word_tokenize(blurb)\n",
    "    postag = pos_tag(blurb1)\n",
    "    for k in range(len(blurb1)):\n",
    "        if postag[k][1][0] == \"R\":\n",
    "            blurb1[k] = lemmatizer.lemmatize(blurb1[k], pos='r')\n",
    "        elif postag[k][1][0] == \"V\":\n",
    "            blurb1[k] = lemmatizer.lemmatize(blurb1[k], pos='v')\n",
    "        elif postag[k][1][0] == \"J\":\n",
    "            blurb1[k] = lemmatizer.lemmatize(blurb1[k], pos='a') \n",
    "        else:\n",
    "            blurb1[k] = lemmatizer.lemmatize(blurb1[k], pos='n')\n",
    "        #print(blurb1)\n",
    "    str1=\" \".join(blurb1)\n",
    "\n",
    "    #pre-processing with stop words\n",
    "    blurbstokenized.append(str1)\n"
   ]
  },
  {
   "cell_type": "code",
   "execution_count": 61,
   "metadata": {
    "ExecuteTime": {
     "end_time": "2018-06-04T18:00:53.673050Z",
     "start_time": "2018-06-04T18:00:53.667672Z"
    }
   },
   "outputs": [
    {
     "name": "stdout",
     "output_type": "stream",
     "text": [
      "1106\n",
      "1106\n"
     ]
    }
   ],
   "source": [
    "print(len(blurbs))\n",
    "print(len(blurbstokenized))"
   ]
  },
  {
   "cell_type": "code",
   "execution_count": 67,
   "metadata": {
    "ExecuteTime": {
     "end_time": "2018-06-04T18:01:22.194944Z",
     "start_time": "2018-06-04T18:01:22.189494Z"
    }
   },
   "outputs": [
    {
     "name": "stdout",
     "output_type": "stream",
     "text": [
      "['The playful experimentation with perspective and proportion in this depiction of men and boy absorb in various task relate to furniture manufacture fill the canvas with frenetic energy . Details , such a the wide range of tool and machinery that animate the interior , reveal Usui ’ s own extensive knowledge of woodworking . Following his immigration to New York from Japan , Usui integrate into the city ’ s art community through his trade a a frame maker , through which he meet many lead contemporary painter .']\n"
     ]
    }
   ],
   "source": [
    "print(blurbstokenized[:1])\n"
   ]
  },
  {
   "cell_type": "code",
   "execution_count": 69,
   "metadata": {
    "ExecuteTime": {
     "end_time": "2018-06-04T18:02:17.737154Z",
     "start_time": "2018-06-04T18:02:17.583733Z"
    },
    "collapsed": true
   },
   "outputs": [],
   "source": [
    "#remove punctuation\n",
    "\n",
    "words_to_remove=(['.', ',', '(', ')', \"'\", '\"', '<', '>', \"''\", ':', ';',\n",
    "                 '1907', '1989', '1917', '1912', '2001','ca', '2005', '48',\n",
    "                 'metropolitan', 'museum', 'art', '1915', '1869', '49',\n",
    "                  'work','form','confirm', 'appear', '1961', 'exhibit', \n",
    "                  'exhibition', '1911', 'university', 'appear', 'document', \n",
    "                  'belie', 'defy', 'inscribed', 'inscription',\n",
    "                  'predilection', 'painting', 'ambitious', 'underlying',\n",
    "                  'attribute', 'prototype','portray','title','1599','1652',\n",
    "                  'maker','entrust','manufacture','society','piece','1916',\n",
    "                  'win','painters','particularly','include','robert',\n",
    "                  'collection','dexterous','wit','accompany','artist',\n",
    "                  'paint', 'store', 'figure', 'century', 'original', \n",
    "                  'academy','1922', 'studio', 'studios', 'centuries', \n",
    "                  'suggest', 'travel', 'visit', 'make', 'department', \n",
    "                  '1937', 'connecticut'])\n",
    "\n",
    "# painting ambitious underlying ambitious attribute prototype\n",
    "custom_stop_words = text.ENGLISH_STOP_WORDS.union(words_to_remove)\n",
    "\n",
    "vectorizer = TfidfVectorizer(max_df=0.85, min_df=5, stop_words=custom_stop_words)\n",
    "doc_vectors = vectorizer.fit_transform(blurbstokenized)"
   ]
  },
  {
   "cell_type": "markdown",
   "metadata": {},
   "source": [
    "# NMF"
   ]
  },
  {
   "cell_type": "code",
   "execution_count": 70,
   "metadata": {
    "ExecuteTime": {
     "end_time": "2018-06-04T18:02:53.821160Z",
     "start_time": "2018-06-04T18:02:53.811736Z"
    },
    "collapsed": true
   },
   "outputs": [],
   "source": [
    "n_components=15\n",
    "n_top_words = 8\n",
    "\n",
    "def print_top_words(model, feature_names, n_top_words):\n",
    "    for topic_idx, topic in enumerate(model.components_):\n",
    "        message = \"Topic #%d: \" % topic_idx\n",
    "        message += \" \".join([feature_names[i]\n",
    "                             for i in topic.argsort()[:-n_top_words - 1:-1]])\n",
    "        print(message)\n",
    "    print()"
   ]
  },
  {
   "cell_type": "code",
   "execution_count": 72,
   "metadata": {
    "ExecuteTime": {
     "end_time": "2018-06-04T18:02:56.066347Z",
     "start_time": "2018-06-04T18:02:55.912543Z"
    },
    "collapsed": true
   },
   "outputs": [],
   "source": [
    "#fit the NMF model\n",
    "model = NMF(n_components=n_components, random_state=1, alpha=.1, l1_ratio=.5, init='nndsvd')\n",
    "nmf = model.fit(doc_vectors) #learn a NMF model for the data in doc_vectors\n"
   ]
  },
  {
   "cell_type": "code",
   "execution_count": 73,
   "metadata": {
    "ExecuteTime": {
     "end_time": "2018-06-04T18:03:08.455087Z",
     "start_time": "2018-06-04T18:03:08.446639Z"
    }
   },
   "outputs": [
    {
     "name": "stdout",
     "output_type": "stream",
     "text": [
      "['1127', '12', '1279', '150', '1626', '1642', '1705', '1707', '17th', '1800', '1844', '1858', '1864', '1865', '1870s', '1881', '1885', '1889', '1890s', '1895']\n",
      "2539\n"
     ]
    }
   ],
   "source": [
    "tfidf_feature_names = vectorizer.get_feature_names()\n",
    "print(tfidf_feature_names[:20])\n",
    "print(len(tfidf_feature_names))"
   ]
  },
  {
   "cell_type": "code",
   "execution_count": 74,
   "metadata": {
    "ExecuteTime": {
     "end_time": "2018-06-04T18:03:16.466257Z",
     "start_time": "2018-06-04T18:03:16.455183Z"
    },
    "scrolled": true
   },
   "outputs": [
    {
     "name": "stdout",
     "output_type": "stream",
     "text": [
      "Topic #0: color composition abstract landscape use create canvas like\n",
      "Topic #1: chinese zhang ink western style wu china trans\n",
      "Topic #2: xie tracing trace copy sketch kai dynasty liang\n",
      "Topic #3: paper brainard crumpled multimedia underpants ephemera sardine snippet\n",
      "Topic #4: cadmus sins deadly satire gore fertile hieronymus bosch\n",
      "Topic #5: new york city america women national bellows gallery\n",
      "Topic #6: picasso thérèse marie paris lover braque walter friend\n",
      "Topic #7: sitter daughter identity mother gray air city live\n",
      "Topic #8: kiefer german germany wagner photograph watercolor die tree\n",
      "Topic #9: matisse odalisque henri derain nice model 1905 nude\n",
      "Topic #10: paris dunand alabaster wisteria jewelry supply fireplace carpet\n",
      "Topic #11: portrait katz daughter photograph wife old self eakins\n",
      "Topic #12: qi baishi wang beijing insect seal calligraphic crab\n",
      "Topic #13: miniature american city pennsylvania arts indian prize edward\n",
      "Topic #14: chen hongshou copy rock trace signature xie matter\n",
      "\n"
     ]
    }
   ],
   "source": [
    "print_top_words(nmf, tfidf_feature_names, n_top_words)"
   ]
  },
  {
   "cell_type": "code",
   "execution_count": 75,
   "metadata": {
    "ExecuteTime": {
     "end_time": "2018-06-04T18:03:19.787145Z",
     "start_time": "2018-06-04T18:03:19.630284Z"
    },
    "collapsed": true
   },
   "outputs": [],
   "source": [
    "tp = nmf.fit_transform(doc_vectors)"
   ]
  },
  {
   "cell_type": "code",
   "execution_count": 76,
   "metadata": {
    "ExecuteTime": {
     "end_time": "2018-06-04T18:03:20.398616Z",
     "start_time": "2018-06-04T18:03:20.392414Z"
    }
   },
   "outputs": [
    {
     "data": {
      "text/plain": [
       "1106"
      ]
     },
     "execution_count": 76,
     "metadata": {},
     "output_type": "execute_result"
    }
   ],
   "source": [
    "len(tp)"
   ]
  },
  {
   "cell_type": "code",
   "execution_count": 79,
   "metadata": {
    "ExecuteTime": {
     "end_time": "2018-06-04T18:03:38.048074Z",
     "start_time": "2018-06-04T18:03:38.039121Z"
    }
   },
   "outputs": [
    {
     "data": {
      "text/plain": [
       "array([[ 0.03153439,  0.        ,  0.        ,  0.        ,  0.        ,\n",
       "         0.05906373,  0.        ,  0.        ,  0.        ,  0.        ,\n",
       "         0.        ,  0.        ,  0.        ,  0.        ,  0.        ],\n",
       "       [ 0.0199809 ,  0.20776078,  0.01018849,  0.        ,  0.        ,\n",
       "         0.01213871,  0.        ,  0.        ,  0.        ,  0.        ,\n",
       "         0.        ,  0.        ,  0.04223994,  0.        ,  0.        ]])"
      ]
     },
     "execution_count": 79,
     "metadata": {},
     "output_type": "execute_result"
    }
   ],
   "source": [
    "tp[:2]"
   ]
  },
  {
   "cell_type": "code",
   "execution_count": 80,
   "metadata": {
    "ExecuteTime": {
     "end_time": "2018-06-04T18:03:40.687114Z",
     "start_time": "2018-06-04T18:03:40.680036Z"
    }
   },
   "outputs": [
    {
     "data": {
      "text/plain": [
       "(1106, 15)"
      ]
     },
     "execution_count": 80,
     "metadata": {},
     "output_type": "execute_result"
    }
   ],
   "source": [
    "tp.shape"
   ]
  },
  {
   "cell_type": "code",
   "execution_count": 81,
   "metadata": {
    "ExecuteTime": {
     "end_time": "2018-06-04T18:03:42.060865Z",
     "start_time": "2018-06-04T18:03:42.053596Z"
    }
   },
   "outputs": [
    {
     "data": {
      "text/plain": [
       "array([ 0.0370129 ,  0.        ,  0.        ,  0.        ,  0.        ,\n",
       "        0.04305798,  0.        ,  0.        ,  0.        ,  0.        ,\n",
       "        0.        ,  0.03250738,  0.        ,  0.        ,  0.        ])"
      ]
     },
     "execution_count": 81,
     "metadata": {},
     "output_type": "execute_result"
    }
   ],
   "source": [
    "tp[14]"
   ]
  },
  {
   "cell_type": "code",
   "execution_count": 83,
   "metadata": {
    "ExecuteTime": {
     "end_time": "2018-06-04T18:03:50.296519Z",
     "start_time": "2018-06-04T18:03:50.286750Z"
    }
   },
   "outputs": [
    {
     "data": {
      "text/plain": [
       "array([[ 0.27698045]])"
      ]
     },
     "execution_count": 83,
     "metadata": {},
     "output_type": "execute_result"
    }
   ],
   "source": [
    "cosine_similarity(tp[11].reshape(1,-1),tp[22].reshape(1,-1))"
   ]
  },
  {
   "cell_type": "code",
   "execution_count": 84,
   "metadata": {
    "ExecuteTime": {
     "end_time": "2018-06-04T18:03:51.924526Z",
     "start_time": "2018-06-04T18:03:51.917936Z"
    }
   },
   "outputs": [
    {
     "data": {
      "text/plain": [
       "array([ 0.08760786,  0.        ,  0.        ,  0.        ,  0.        ,\n",
       "        0.        ,  0.        ,  0.        ,  0.        ,  0.        ,\n",
       "        0.        ,  0.        ,  0.        ,  0.        ,  0.        ])"
      ]
     },
     "execution_count": 84,
     "metadata": {},
     "output_type": "execute_result"
    }
   ],
   "source": [
    "tp[1103]"
   ]
  },
  {
   "cell_type": "code",
   "execution_count": 85,
   "metadata": {
    "ExecuteTime": {
     "end_time": "2018-06-04T18:03:55.001100Z",
     "start_time": "2018-06-04T18:03:54.993736Z"
    }
   },
   "outputs": [
    {
     "data": {
      "text/plain": [
       "array([ 0.07216317,  0.        ,  0.        ,  0.        ,  0.        ,\n",
       "        0.        ,  0.        ,  0.        ,  0.        ,  0.        ,\n",
       "        0.        ,  0.        ,  0.        ,  0.        ,  0.        ])"
      ]
     },
     "execution_count": 85,
     "metadata": {},
     "output_type": "execute_result"
    }
   ],
   "source": [
    "tp[552]"
   ]
  },
  {
   "cell_type": "code",
   "execution_count": 94,
   "metadata": {
    "ExecuteTime": {
     "end_time": "2018-06-04T18:05:40.977361Z",
     "start_time": "2018-06-04T18:05:40.785685Z"
    }
   },
   "outputs": [
    {
     "name": "stdout",
     "output_type": "stream",
     "text": [
      "1105\n",
      "[1.0, 1.0, 1.0, 1.0, 1.0, 1.0, 1.0, 1.0, 1.0, 1.0]\n"
     ]
    }
   ],
   "source": [
    "tp2=[]\n",
    "for i in range(len(tp)):\n",
    "    tptemp=tp[i]\n",
    "    tptemp_reshape=tptemp.reshape(1,-1)\n",
    "    tp2.append(tptemp_reshape)\n",
    "\n",
    "doc=1103 ##index of painting to compare to\n",
    "primarydoc=tp2.pop(doc)\n",
    "\n",
    "similartp=[]\n",
    "for j in range(0,len(tp2)):\n",
    "    k=cosine_similarity(primarydoc,tp2[j])\n",
    "    kElement=k[0][0]\n",
    "    similartp.append(kElement)\n",
    "\n",
    "print(len(sorted(similartp)))    \n",
    "print(sorted(similartp,reverse=True)[:10]) #recommended tp\n"
   ]
  },
  {
   "cell_type": "code",
   "execution_count": 96,
   "metadata": {
    "ExecuteTime": {
     "end_time": "2018-06-04T18:05:50.746251Z",
     "start_time": "2018-06-04T18:05:50.733905Z"
    }
   },
   "outputs": [
    {
     "data": {
      "text/plain": [
       "[552, 780, 282, 281, 787, 789, 277, 276, 794, 797]"
      ]
     },
     "execution_count": 96,
     "metadata": {},
     "output_type": "execute_result"
    }
   ],
   "source": [
    "idx=list(range(len(similartp)))\n",
    "#print(list(zip(idx, similartp)))\n",
    "dftopic=pd.DataFrame(similartp,columns=['similartp'])\n",
    "dftopic1=dftopic.sort_values(by=['similartp'], ascending=False) \n",
    "\n",
    "#dftopic=pd.DataFrame(list(zip(idx,similartp)),columns=['index','similartp'])\n",
    "dftopic1\n",
    "#dftopic.columns\n",
    "dftopic1.index.tolist()[:10]"
   ]
  },
  {
   "cell_type": "code",
   "execution_count": 97,
   "metadata": {
    "ExecuteTime": {
     "end_time": "2018-06-04T18:05:56.830357Z",
     "start_time": "2018-06-04T18:05:56.817629Z"
    }
   },
   "outputs": [
    {
     "data": {
      "text/html": [
       "<div>\n",
       "<style>\n",
       "    .dataframe thead tr:only-child th {\n",
       "        text-align: right;\n",
       "    }\n",
       "\n",
       "    .dataframe thead th {\n",
       "        text-align: left;\n",
       "    }\n",
       "\n",
       "    .dataframe tbody tr th {\n",
       "        vertical-align: top;\n",
       "    }\n",
       "</style>\n",
       "<table border=\"1\" class=\"dataframe\">\n",
       "  <thead>\n",
       "    <tr style=\"text-align: right;\">\n",
       "      <th></th>\n",
       "      <th>0</th>\n",
       "    </tr>\n",
       "  </thead>\n",
       "  <tbody>\n",
       "    <tr>\n",
       "      <th>0</th>\n",
       "      <td>0.470980</td>\n",
       "    </tr>\n",
       "    <tr>\n",
       "      <th>1</th>\n",
       "      <td>0.093570</td>\n",
       "    </tr>\n",
       "    <tr>\n",
       "      <th>2</th>\n",
       "      <td>0.998530</td>\n",
       "    </tr>\n",
       "    <tr>\n",
       "      <th>3</th>\n",
       "      <td>0.143371</td>\n",
       "    </tr>\n",
       "    <tr>\n",
       "      <th>4</th>\n",
       "      <td>0.000000</td>\n",
       "    </tr>\n",
       "  </tbody>\n",
       "</table>\n",
       "</div>"
      ],
      "text/plain": [
       "          0\n",
       "0  0.470980\n",
       "1  0.093570\n",
       "2  0.998530\n",
       "3  0.143371\n",
       "4  0.000000"
      ]
     },
     "execution_count": 97,
     "metadata": {},
     "output_type": "execute_result"
    }
   ],
   "source": [
    "df = pd.DataFrame(similartp)\n",
    "df.head()\n"
   ]
  },
  {
   "cell_type": "code",
   "execution_count": 98,
   "metadata": {
    "ExecuteTime": {
     "end_time": "2018-06-04T18:06:05.838411Z",
     "start_time": "2018-06-04T18:06:05.829399Z"
    }
   },
   "outputs": [
    {
     "name": "stdout",
     "output_type": "stream",
     "text": [
      "1105\n",
      "[22, 30, 34, 45, 49, 58, 60, 69, 72, 74]\n"
     ]
    }
   ],
   "source": [
    "idx=sorted(range(len(similartp)), key=lambda k: similartp[k], reverse=True)\n",
    "print(len(idx))\n",
    "print(idx[:10])"
   ]
  },
  {
   "cell_type": "code",
   "execution_count": 168,
   "metadata": {
    "ExecuteTime": {
     "end_time": "2018-03-29T08:52:16.638993Z",
     "start_time": "2018-03-29T08:52:16.634839Z"
    },
    "collapsed": true
   },
   "outputs": [],
   "source": [
    "#recommender / recommendations --> url [urlList, .csv]\n",
    "\n",
    "#urlList\n",
    "##.csv\n"
   ]
  },
  {
   "cell_type": "code",
   "execution_count": 105,
   "metadata": {
    "ExecuteTime": {
     "end_time": "2018-06-04T18:11:21.224834Z",
     "start_time": "2018-06-04T18:11:21.218526Z"
    }
   },
   "outputs": [
    {
     "name": "stdout",
     "output_type": "stream",
     "text": [
      "1106\n"
     ]
    }
   ],
   "source": [
    "print(len(tp))\n",
    "#for row in range(len(tp)):\n",
    "#    print(row, tp[row])"
   ]
  },
  {
   "cell_type": "code",
   "execution_count": 106,
   "metadata": {
    "ExecuteTime": {
     "end_time": "2018-06-04T18:11:29.556190Z",
     "start_time": "2018-06-04T18:11:29.543013Z"
    }
   },
   "outputs": [
    {
     "name": "stdout",
     "output_type": "stream",
     "text": [
      "1106\n",
      "<class 'list'>\n",
      "[5, 1, 0, 1, 1]\n"
     ]
    }
   ],
   "source": [
    "a=[list(i).index(max(i)) for i in tp]\n",
    "print(len(a))\n",
    "print(type(a))\n",
    "print(a[:5])\n"
   ]
  },
  {
   "cell_type": "code",
   "execution_count": 107,
   "metadata": {
    "ExecuteTime": {
     "end_time": "2018-06-04T18:11:55.038294Z",
     "start_time": "2018-06-04T18:11:55.030060Z"
    },
    "scrolled": true
   },
   "outputs": [
    {
     "name": "stdout",
     "output_type": "stream",
     "text": [
      "count:\n",
      "34\n"
     ]
    }
   ],
   "source": [
    "count_a=0\n",
    "\n",
    "for i in range(len(a)):\n",
    "    if a[i]==9:\n",
    "        #print(i)\n",
    "        count_a+=1\n",
    "print('count:')        \n",
    "print(count_a)\n",
    "    "
   ]
  },
  {
   "cell_type": "code",
   "execution_count": 108,
   "metadata": {
    "ExecuteTime": {
     "end_time": "2018-06-04T18:11:59.180619Z",
     "start_time": "2018-06-04T18:11:59.177149Z"
    },
    "collapsed": true
   },
   "outputs": [],
   "source": [
    "#create dummified matrix\n",
    "import pandas as pd"
   ]
  },
  {
   "cell_type": "code",
   "execution_count": 109,
   "metadata": {
    "ExecuteTime": {
     "end_time": "2018-06-04T18:11:59.952805Z",
     "start_time": "2018-06-04T18:11:59.935485Z"
    }
   },
   "outputs": [
    {
     "name": "stdout",
     "output_type": "stream",
     "text": [
      "   tp1  tp2  tp3  tp4  tp5  tp6  tp7  tp8  tp9  tp10  tp11  tp12  tp13  tp14\n",
      "0    0    0    0    0    1    0    0    0    0     0     0     0     0     0\n",
      "1    1    0    0    0    0    0    0    0    0     0     0     0     0     0\n",
      "2    0    0    0    0    0    0    0    0    0     0     0     0     0     0\n",
      "3    1    0    0    0    0    0    0    0    0     0     0     0     0     0\n",
      "4    1    0    0    0    0    0    0    0    0     0     0     0     0     0\n"
     ]
    }
   ],
   "source": [
    "tpdummies=pd.get_dummies(a, prefix='tp',prefix_sep='',drop_first=True)\n",
    "print(tpdummies.head())"
   ]
  },
  {
   "cell_type": "code",
   "execution_count": null,
   "metadata": {
    "collapsed": true
   },
   "outputs": [],
   "source": []
  },
  {
   "cell_type": "code",
   "execution_count": 110,
   "metadata": {
    "ExecuteTime": {
     "end_time": "2018-06-04T18:12:05.635549Z",
     "start_time": "2018-06-04T18:12:05.623514Z"
    }
   },
   "outputs": [
    {
     "name": "stdout",
     "output_type": "stream",
     "text": [
      "[576, 129, 61, 12, 9, 58, 53, 20, 36, 34, 8, 49, 27, 18, 16]\n"
     ]
    }
   ],
   "source": [
    "n_components = 15\n",
    "countTotal = []\n",
    "\n",
    "for i in range(n_components):\n",
    "    count=0\n",
    "    for j in range(len(a)):\n",
    "        if a[j]==i:\n",
    "            count+=1\n",
    "    countTotal.append(count)\n",
    "print(countTotal)"
   ]
  },
  {
   "cell_type": "code",
   "execution_count": 112,
   "metadata": {
    "ExecuteTime": {
     "end_time": "2018-06-04T18:12:08.973150Z",
     "start_time": "2018-06-04T18:12:08.752080Z"
    }
   },
   "outputs": [
    {
     "data": {
      "text/plain": [
       "Text(0.5,1,'Distribution of Topics')"
      ]
     },
     "execution_count": 112,
     "metadata": {},
     "output_type": "execute_result"
    },
    {
     "data": {
      "image/png": "[encoded data removed]",
      "text/plain": [
       "<matplotlib.figure.Figure at 0x121a712e8>"
      ]
     },
     "metadata": {},
     "output_type": "display_data"
    }
   ],
   "source": [
    "plt.hist(a, n_components)\n",
    "plt.xlabel('topic #')\n",
    "plt.ylabel('count / frequency')\n",
    "plt.title('Distribution of Topics')"
   ]
  },
  {
   "cell_type": "markdown",
   "metadata": {},
   "source": [
    "# look up some samples to check topics"
   ]
  },
  {
   "cell_type": "code",
   "execution_count": 113,
   "metadata": {
    "ExecuteTime": {
     "end_time": "2018-06-04T18:12:14.429381Z",
     "start_time": "2018-06-04T18:12:14.423617Z"
    }
   },
   "outputs": [
    {
     "data": {
      "text/plain": [
       "1106"
      ]
     },
     "execution_count": 113,
     "metadata": {},
     "output_type": "execute_result"
    }
   ],
   "source": [
    "len(blurbs)"
   ]
  },
  {
   "cell_type": "code",
   "execution_count": 115,
   "metadata": {
    "ExecuteTime": {
     "end_time": "2018-06-04T18:12:22.528258Z",
     "start_time": "2018-06-04T18:12:22.521893Z"
    }
   },
   "outputs": [
    {
     "data": {
      "text/plain": [
       "['The playful experimentation with perspective and proportions in this depiction of men and boys absorbed in various tasks related to furniture manufacture fills the canvas with frenetic energy. Details, such as the wide range of tools and machinery that animate the interior, reveal Usui’s own extensive knowledge of woodworking. Following his immigration to New York from Japan, Usui integrated into the city’s art community through his trade as a frame maker, through which he met many leading contemporary painters.']"
      ]
     },
     "execution_count": 115,
     "metadata": {},
     "output_type": "execute_result"
    }
   ],
   "source": [
    "blurbs[:1]"
   ]
  },
  {
   "cell_type": "code",
   "execution_count": 116,
   "metadata": {
    "ExecuteTime": {
     "end_time": "2018-06-04T18:12:25.855038Z",
     "start_time": "2018-06-04T18:12:25.849830Z"
    }
   },
   "outputs": [
    {
     "name": "stdout",
     "output_type": "stream",
     "text": [
      "<class 'list'>\n"
     ]
    }
   ],
   "source": [
    "len(data)\n",
    "print(type(data))"
   ]
  },
  {
   "cell_type": "code",
   "execution_count": 117,
   "metadata": {
    "ExecuteTime": {
     "end_time": "2018-06-04T18:12:34.021082Z",
     "start_time": "2018-06-04T18:12:34.015267Z"
    }
   },
   "outputs": [
    {
     "data": {
      "text/plain": [
       "defaultdict(dict,\n",
       "            {'AccessionNumber': '2014.142',\n",
       "             'Artist': 'Bumpei Usui (American (born Japan), Nagano 1898–1994 New York)',\n",
       "             'Blurb': 'The playful experimentation with perspective and proportions in this depiction of men and boys absorbed in various tasks related to furniture manufacture fills the canvas with frenetic energy. Details, such as the wide range of tools and machinery that animate the interior, reveal Usui’s own extensive knowledge of woodworking. Following his immigration to New York from Japan, Usui integrated into the city’s art community through his trade as a frame maker, through which he met many leading contemporary painters.',\n",
       "             'Date': '1925',\n",
       "             'Medium': 'Oil on canvas'})"
      ]
     },
     "execution_count": 117,
     "metadata": {},
     "output_type": "execute_result"
    }
   ],
   "source": [
    "data[0]"
   ]
  },
  {
   "cell_type": "markdown",
   "metadata": {},
   "source": [
    "# Artist"
   ]
  },
  {
   "cell_type": "code",
   "execution_count": 118,
   "metadata": {
    "ExecuteTime": {
     "end_time": "2018-06-04T18:12:44.800403Z",
     "start_time": "2018-06-04T18:12:44.787758Z"
    }
   },
   "outputs": [
    {
     "data": {
      "text/plain": [
       "1106"
      ]
     },
     "execution_count": 118,
     "metadata": {},
     "output_type": "execute_result"
    }
   ],
   "source": [
    "nArtists=0 #count of artists\n",
    "artistsWBlurb=[] #list of artists\n",
    "\n",
    "for entry in range(len(data)):\n",
    "    if len(data[entry]['Blurb']) > 0:\n",
    "        #print(nArtists)\n",
    "        #print(data[entry]['Artist'])\n",
    "        artistsWBlurb.append(data[entry]['Artist'])\n",
    "        nArtists+=1\n",
    "nArtists        "
   ]
  },
  {
   "cell_type": "code",
   "execution_count": 119,
   "metadata": {
    "ExecuteTime": {
     "end_time": "2018-06-04T18:12:53.224146Z",
     "start_time": "2018-06-04T18:12:53.200299Z"
    }
   },
   "outputs": [
    {
     "name": "stdout",
     "output_type": "stream",
     "text": [
      "1106\n"
     ]
    }
   ],
   "source": [
    "artistList=[]\n",
    "\n",
    "for artist in artistsWBlurb:\n",
    "    if isinstance(artist, str) == True:\n",
    "        artist1=artist.split('(')[0]\n",
    "        artist2=artist1.split(',')[0].strip()\n",
    "        if artist2=='After Qi Baishi':\n",
    "            artist2 = artist2.replace('After ','')\n",
    "        if artist2=='Miniatures by Vassily Ivanovich Zuiev':\n",
    "            artist2 = artist2.replace('Miniatures by ','')\n",
    "        if artist2=='Unidentified Artist Chinese':\n",
    "            artist2 = None\n",
    "        if artist2=='Unidentified Artist':\n",
    "            artist2 = None\n",
    "        #print(artist2)\n",
    "        artistList.append(artist2)\n",
    "    else:\n",
    "        artist2 = None\n",
    "        artistList.append(artist2)\n",
    "        \n",
    "print(len(artistList))"
   ]
  },
  {
   "cell_type": "code",
   "execution_count": 121,
   "metadata": {
    "ExecuteTime": {
     "end_time": "2018-06-04T18:13:02.183116Z",
     "start_time": "2018-06-04T18:13:02.178039Z"
    },
    "collapsed": true
   },
   "outputs": [],
   "source": [
    "#view unique artists\n",
    "#set(artistList)"
   ]
  },
  {
   "cell_type": "code",
   "execution_count": 122,
   "metadata": {
    "ExecuteTime": {
     "end_time": "2018-06-04T18:13:06.832465Z",
     "start_time": "2018-06-04T18:13:06.826174Z"
    }
   },
   "outputs": [
    {
     "data": {
      "text/plain": [
       "449"
      ]
     },
     "execution_count": 122,
     "metadata": {},
     "output_type": "execute_result"
    }
   ],
   "source": [
    "len(set(artistList))"
   ]
  },
  {
   "cell_type": "code",
   "execution_count": 123,
   "metadata": {
    "ExecuteTime": {
     "end_time": "2018-06-04T18:13:13.377383Z",
     "start_time": "2018-06-04T18:13:13.371372Z"
    },
    "collapsed": true
   },
   "outputs": [],
   "source": [
    "artistCounts = defaultdict(int)\n",
    "\n",
    "for i in artistList:\n",
    "    artistCounts[i] += 1\n",
    "#print(artistCounts) \n"
   ]
  },
  {
   "cell_type": "code",
   "execution_count": 124,
   "metadata": {
    "ExecuteTime": {
     "end_time": "2018-06-04T18:13:18.241924Z",
     "start_time": "2018-06-04T18:13:18.229973Z"
    }
   },
   "outputs": [
    {
     "name": "stdout",
     "output_type": "stream",
     "text": [
      "15\n",
      "['Xie Zhiliu', 'Pablo Picasso', None, 'Qi Baishi', 'Pierre Bonnard', 'Henri Matisse', 'Paul Klee', 'Georges Braque', 'Fernand Léger', 'Anselm Kiefer', 'Zhang Daqian', 'Louis Comfort Tiffany', \"Georgia O'Keeffe\", 'John Singer Sargent', 'Marsden Hartley']\n"
     ]
    }
   ],
   "source": [
    "artistHighCounts=[key for key in artistCounts.keys() if artistCounts[key]>10]\n",
    "print(len(artistHighCounts))\n",
    "print(artistHighCounts)\n",
    "#####\n",
    "#[##'Anselm Kiefer', ##'Fernand Léger', ##'Georges Braque', ##'Georgia O'Keeffe',\n",
    "#       ##'Henri Matisse', ##'John Singer Sargent', ##'Louis Comfort Tiffany',\n",
    "#       ##'Marsden Hartley', ##'Pablo Picasso', ##'Paul Klee', ##'Pierre Bonnard',\n",
    "#       ##'Qi Baishi', ##'Xie Zhiliu', ##'Zhang Daqian'], + ##None --> 15\n",
    "#####"
   ]
  },
  {
   "cell_type": "code",
   "execution_count": 125,
   "metadata": {
    "ExecuteTime": {
     "end_time": "2018-06-04T18:13:32.530495Z",
     "start_time": "2018-06-04T18:13:32.503020Z"
    }
   },
   "outputs": [
    {
     "name": "stdout",
     "output_type": "stream",
     "text": [
      "1106\n"
     ]
    }
   ],
   "source": [
    "artistList2=[]\n",
    "\n",
    "for artist in artistsWBlurb:\n",
    "    if isinstance(artist, str) == True:\n",
    "        artist1=artist.split('(')[0]\n",
    "        artist2=artist1.split(',')[0].strip()\n",
    "        if artist2=='After Qi Baishi':\n",
    "            artist2 = artist2.replace('After ','')\n",
    "        if artist2=='Miniatures by Vassily Ivanovich Zuiev':\n",
    "            artist2 = artist2.replace('Miniatures by ','')\n",
    "        if artist2=='Unidentified Artist Chinese':\n",
    "            artist2 = None\n",
    "        if artist2=='Unidentified Artist':\n",
    "            artist2 = None\n",
    "        if artist2 not in artistHighCounts:\n",
    "            artist2 = None\n",
    "        #print(artist2)\n",
    "        artistList2.append(artist2)\n",
    "    else:\n",
    "        artist2 = None\n",
    "        artistList2.append(artist2)\n",
    "        \n",
    "print(len(artistList2))"
   ]
  },
  {
   "cell_type": "code",
   "execution_count": 126,
   "metadata": {
    "ExecuteTime": {
     "end_time": "2018-06-04T18:13:41.201965Z",
     "start_time": "2018-06-04T18:13:41.185838Z"
    }
   },
   "outputs": [
    {
     "name": "stdout",
     "output_type": "stream",
     "text": [
      "Index(['Anselm Kiefer', 'Fernand Léger', 'Georges Braque', 'Georgia O'Keeffe',\n",
      "       'Henri Matisse', 'John Singer Sargent', 'Louis Comfort Tiffany',\n",
      "       'Marsden Hartley', 'Pablo Picasso', 'Paul Klee', 'Pierre Bonnard',\n",
      "       'Qi Baishi', 'Xie Zhiliu', 'Zhang Daqian'],\n",
      "      dtype='object')\n",
      "   Anselm Kiefer  Fernand Léger  Georges Braque  Georgia O'Keeffe  \\\n",
      "0              0              0               0                 0   \n",
      "1              0              0               0                 0   \n",
      "2              0              0               0                 0   \n",
      "3              0              0               0                 0   \n",
      "4              0              0               0                 0   \n",
      "\n",
      "   Henri Matisse  John Singer Sargent  Louis Comfort Tiffany  Marsden Hartley  \\\n",
      "0              0                    0                      0                0   \n",
      "1              0                    0                      0                0   \n",
      "2              0                    0                      0                0   \n",
      "3              0                    0                      0                0   \n",
      "4              0                    0                      0                0   \n",
      "\n",
      "   Pablo Picasso  Paul Klee  Pierre Bonnard  Qi Baishi  Xie Zhiliu  \\\n",
      "0              0          0               0          0           0   \n",
      "1              0          0               0          0           0   \n",
      "2              0          0               0          0           0   \n",
      "3              0          0               0          0           1   \n",
      "4              0          0               0          0           0   \n",
      "\n",
      "   Zhang Daqian  \n",
      "0             0  \n",
      "1             0  \n",
      "2             0  \n",
      "3             0  \n",
      "4             0  \n"
     ]
    }
   ],
   "source": [
    "tpdummies=pd.get_dummies(artistList2)\n",
    "print(tpdummies.columns)\n",
    "print(tpdummies.head())"
   ]
  },
  {
   "cell_type": "markdown",
   "metadata": {},
   "source": [
    "# Medium"
   ]
  },
  {
   "cell_type": "code",
   "execution_count": 127,
   "metadata": {
    "ExecuteTime": {
     "end_time": "2018-06-04T18:13:53.164564Z",
     "start_time": "2018-06-04T18:13:53.151736Z"
    }
   },
   "outputs": [
    {
     "data": {
      "text/plain": [
       "1106"
      ]
     },
     "execution_count": 127,
     "metadata": {},
     "output_type": "execute_result"
    }
   ],
   "source": [
    "nMedia=0 #count of media\n",
    "mediaWBlurb=[] #list of media\n",
    "\n",
    "for entry in range(len(data)):\n",
    "    if len(data[entry]['Blurb']) > 0:\n",
    "        #print(nMedia)\n",
    "        #print(data[entry]['Medium'])\n",
    "        mediaWBlurb.append(data[entry]['Medium'])\n",
    "        nMedia+=1\n",
    "nMedia"
   ]
  },
  {
   "cell_type": "code",
   "execution_count": 128,
   "metadata": {
    "ExecuteTime": {
     "end_time": "2018-06-04T18:13:59.792340Z",
     "start_time": "2018-06-04T18:13:59.785953Z"
    }
   },
   "outputs": [
    {
     "name": "stdout",
     "output_type": "stream",
     "text": [
      "1106\n",
      "['Oil on canvas', 'Hanging scroll; ink and color on paper', 'Oil and newspaper transfer on canvas', 'Sheet from a sketchbook; pencil on paper', 'Hanging scroll; ink and color on paper']\n"
     ]
    }
   ],
   "source": [
    "print(len(mediaWBlurb))\n",
    "print(mediaWBlurb[:5])"
   ]
  },
  {
   "cell_type": "code",
   "execution_count": 130,
   "metadata": {
    "ExecuteTime": {
     "end_time": "2018-06-04T18:14:12.470712Z",
     "start_time": "2018-06-04T18:14:12.432850Z"
    }
   },
   "outputs": [
    {
     "name": "stdout",
     "output_type": "stream",
     "text": [
      "[('oil', 570), ('canvas', 529), ('paper', 410), ('ink', 294), ('gouache', 142), ('watercolor', 137), ('color', 124), ('scroll', 102), ('graphite', 73), ('album', 68), ('acrylic', 61), ('leaf', 59), ('drawing', 51), ('pencil', 46), ('charcoal', 42), ('fan', 39), ('alum', 37), ('ivory', 35), ('cardboard', 34), ('masonite', 31)]\n"
     ]
    }
   ],
   "source": [
    "words_to_remove=(['hanging', 'mounted', 'board', 'folding'])\n",
    "custom_stop_words = text.ENGLISH_STOP_WORDS.union(words_to_remove)\n",
    "\n",
    "cv=CountVectorizer(mediaWBlurb,stop_words=custom_stop_words)\n",
    "cv_fit=cv.fit(mediaWBlurb)\n",
    "cv_transform=cv.transform(mediaWBlurb)\n",
    "#print((cv_fit.vocabulary_))\n",
    "\n",
    "# Vocabulary\n",
    "vocab = list(cv_fit.get_feature_names())\n",
    "#print((vocab))\n",
    "\n",
    "# Column-wise sum of the X matrix\n",
    "counts = cv_transform.sum(axis=0).A1 #A1 returns flattened array\n",
    "#print(counts)\n",
    "\n",
    "freq_distribution = Counter(dict(zip(vocab, counts)))\n",
    "print(freq_distribution.most_common(20))"
   ]
  },
  {
   "cell_type": "code",
   "execution_count": 131,
   "metadata": {
    "ExecuteTime": {
     "end_time": "2018-06-04T18:14:15.132444Z",
     "start_time": "2018-06-04T18:14:15.123525Z"
    }
   },
   "outputs": [
    {
     "name": "stdout",
     "output_type": "stream",
     "text": [
      "['oil', 'canvas', 'paper', 'ink', 'gouache', 'watercolor', 'color', 'scroll', 'graphite', 'album', 'acrylic', 'leaf', 'drawing', 'pencil', 'charcoal', 'fan', 'alum', 'ivory', 'cardboard', 'masonite']\n"
     ]
    }
   ],
   "source": [
    "materials=[]\n",
    "\n",
    "for i in range(20):\n",
    "    material=freq_distribution.most_common(20)[i][0]\n",
    "    materials.append(material)\n",
    "print(materials)    "
   ]
  },
  {
   "cell_type": "code",
   "execution_count": 132,
   "metadata": {
    "ExecuteTime": {
     "end_time": "2018-06-04T18:14:18.334080Z",
     "start_time": "2018-06-04T18:14:18.328110Z"
    }
   },
   "outputs": [
    {
     "data": {
      "text/plain": [
       "'Oil on canvas'"
      ]
     },
     "execution_count": 132,
     "metadata": {},
     "output_type": "execute_result"
    }
   ],
   "source": [
    "mediaWBlurb[0]"
   ]
  },
  {
   "cell_type": "code",
   "execution_count": null,
   "metadata": {
    "collapsed": true
   },
   "outputs": [],
   "source": []
  },
  {
   "cell_type": "code",
   "execution_count": 133,
   "metadata": {
    "ExecuteTime": {
     "end_time": "2018-06-04T18:14:26.911752Z",
     "start_time": "2018-06-04T18:14:26.904617Z"
    }
   },
   "outputs": [
    {
     "data": {
      "text/plain": [
       "<1106x321 sparse matrix of type '<class 'numpy.int64'>'\n",
       "\twith 3870 stored elements in Compressed Sparse Row format>"
      ]
     },
     "execution_count": 133,
     "metadata": {},
     "output_type": "execute_result"
    }
   ],
   "source": [
    "cv_transform"
   ]
  },
  {
   "cell_type": "code",
   "execution_count": 134,
   "metadata": {
    "ExecuteTime": {
     "end_time": "2018-06-04T18:14:33.762089Z",
     "start_time": "2018-06-04T18:14:33.755565Z"
    }
   },
   "outputs": [
    {
     "name": "stdout",
     "output_type": "stream",
     "text": [
      "['academy', 'accordion', 'acrylic', 'adhered', 'adhesive']\n"
     ]
    }
   ],
   "source": [
    "vocab = list(cv.get_feature_names())\n",
    "print(vocab[:5])"
   ]
  },
  {
   "cell_type": "code",
   "execution_count": 135,
   "metadata": {
    "ExecuteTime": {
     "end_time": "2018-06-04T18:14:43.343964Z",
     "start_time": "2018-06-04T18:14:43.338251Z"
    },
    "collapsed": true
   },
   "outputs": [],
   "source": [
    "d = Counter(mediaWBlurb)\n",
    "\n",
    "n, m = d.keys(), d.values()\n",
    "#print(n, m)"
   ]
  },
  {
   "cell_type": "code",
   "execution_count": 136,
   "metadata": {
    "ExecuteTime": {
     "end_time": "2018-06-04T18:14:50.489652Z",
     "start_time": "2018-06-04T18:14:50.485956Z"
    },
    "collapsed": true
   },
   "outputs": [],
   "source": [
    "#d"
   ]
  },
  {
   "cell_type": "markdown",
   "metadata": {},
   "source": [
    "# Date"
   ]
  },
  {
   "cell_type": "code",
   "execution_count": 143,
   "metadata": {
    "ExecuteTime": {
     "end_time": "2018-06-04T18:32:09.894305Z",
     "start_time": "2018-06-04T18:32:09.888018Z"
    },
    "collapsed": true
   },
   "outputs": [],
   "source": [
    "nDate=0 #count of dates\n",
    "DatesWBlurb=[] #list of dates\n",
    "\n",
    "#for entry in range(len(data)):\n",
    "#    if isinstance(data[entry]['Date'],str)==True:\n",
    "#        if len(data[entry]['Blurb']) > 0:\n",
    "#            print(nDate)\n",
    "#            print(data[entry]['Date'])\n",
    "#            DatesWBlurb.append(data[entry]['Date'])\n",
    "#            nDate+=1\n",
    "#    else:\n",
    "#        print(None)\n",
    "#nDate        "
   ]
  },
  {
   "cell_type": "code",
   "execution_count": 141,
   "metadata": {
    "ExecuteTime": {
     "end_time": "2018-06-04T18:16:06.571377Z",
     "start_time": "2018-06-04T18:16:06.567671Z"
    },
    "collapsed": true
   },
   "outputs": [],
   "source": [
    "data[60]['Date']"
   ]
  }
 ],
 "metadata": {
  "kernelspec": {
   "display_name": "Python 3",
   "language": "python",
   "name": "python3"
  },
  "language_info": {
   "codemirror_mode": {
    "name": "ipython",
    "version": 3
   },
   "file_extension": ".py",
   "mimetype": "text/x-python",
   "name": "python",
   "nbconvert_exporter": "python",
   "pygments_lexer": "ipython3",
   "version": "3.6.2"
  },
  "toc": {
   "nav_menu": {},
   "number_sections": true,
   "sideBar": true,
   "skip_h1_title": false,
   "title_cell": "Table of Contents",
   "title_sidebar": "Contents",
   "toc_cell": false,
   "toc_position": {
    "height": "calc(100% - 180px)",
    "left": "10px",
    "top": "150px",
    "width": "288px"
   },
   "toc_section_display": true,
   "toc_window_display": false
  }
 },
 "nbformat": 4,
 "nbformat_minor": 2
}
